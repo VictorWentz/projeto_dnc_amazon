{
  "nbformat": 4,
  "nbformat_minor": 0,
  "metadata": {
    "colab": {
      "name": "Projeto Amazon - DNC.ipynb",
      "provenance": [],
      "collapsed_sections": [
        "e39JcN9say9C",
        "tAM4S1I-wMeO",
        "KU94HVQfESr2"
      ],
      "mount_file_id": "1zfDsHivY-O_PJ_owpBi9ZLw9MKxOnX6y",
      "authorship_tag": "ABX9TyOejKYpCZHM4Lo0pbODwDHA",
      "include_colab_link": true
    },
    "kernelspec": {
      "name": "python3",
      "display_name": "Python 3"
    },
    "language_info": {
      "name": "python"
    }
  },
  "cells": [
    {
      "cell_type": "markdown",
      "metadata": {
        "id": "view-in-github",
        "colab_type": "text"
      },
      "source": [
        "<a href=\"https://colab.research.google.com/github/VictorWentz/projeto_dnc_amazon/blob/main/Projeto_Amazon_DNC.ipynb\" target=\"_parent\"><img src=\"https://colab.research.google.com/assets/colab-badge.svg\" alt=\"Open In Colab\"/></a>"
      ]
    },
    {
      "cell_type": "markdown",
      "source": [
        "# Contexto"
      ],
      "metadata": {
        "id": "vDo_IplWFqvk"
      }
    },
    {
      "cell_type": "markdown",
      "source": [
        "O CEO da Amazon contratou um time de cientistas de dados \n",
        "para trabalhar em diferentes vertentes da empresa, e você \n",
        "ficou encarregado de fazer um sistema de recomendação para \n",
        "os clientes Amazon. Para isso, te deram acesso à uma base de \n",
        "dados não muito estruturada em Json: um arquivo de \n",
        "metadata com informações dos produtos e outro com as \n",
        "avaliações."
      ],
      "metadata": {
        "id": "gbyuTFy4Fuqp"
      }
    },
    {
      "cell_type": "markdown",
      "source": [
        "# Projeto"
      ],
      "metadata": {
        "id": "CP-0uFL0F0ts"
      }
    },
    {
      "cell_type": "markdown",
      "source": [
        "O CEO deseja que seu algoritmo de recomendação seja \n",
        "exclusivamente em cima de avaliações verificadas (campo \n",
        "`verified`=True no arquivo de avaliações). Contudo, há uma \n",
        "base sem classificação e que o CEO faz questão de que seja \n",
        "adicionada no sistema de recomendação (valores com missing \n",
        "value na coluna `verified`). Para isso, você precisará classificar \n",
        "se estas avaliações são verificadas ou não, e no caso positivo, \n",
        "adicioná-los no sistema de recomendação.\n",
        "Adicionalmente, o CEO também deseja saber de possíveis \n",
        "associações e/ou correlações nesta base de dados que você vai \n",
        "trabalhar.\n"
      ],
      "metadata": {
        "id": "wDuD-P0oF1xU"
      }
    },
    {
      "cell_type": "markdown",
      "source": [
        "# Etapas"
      ],
      "metadata": {
        "id": "R6bBwVTBGCDj"
      }
    },
    {
      "cell_type": "markdown",
      "source": [
        "Desta forma, eis o que você deve fazer neste projeto:\n",
        "\n",
        "- Carregar, limpar e fazer análises exploratórias no banco de \n",
        "dados fornecido;\n",
        "\n",
        "- Classificar a base sem informação para incluir as observações \n",
        "das avaliações verificadas no sistema de recomendação;\n",
        "\n",
        "- Desenvolver e entregar um sistema de recomendação, com \n",
        "exemplos de aplicação."
      ],
      "metadata": {
        "id": "qPRGw-Y3GEuD"
      }
    },
    {
      "cell_type": "markdown",
      "source": [
        "# Dados"
      ],
      "metadata": {
        "id": "zj7u5g7THr4H"
      }
    },
    {
      "cell_type": "markdown",
      "source": [
        "[Link](https://bit.ly/3xzk1Tk) para download dos dados utilizados nesse projeto.\n",
        "\n",
        "Criamos uma copia para nosso drive, e assim podemos carregar o drive no colab, para realizar as devidas importações."
      ],
      "metadata": {
        "id": "O9mROkVMHtkc"
      }
    },
    {
      "cell_type": "code",
      "execution_count": null,
      "metadata": {
        "id": "VKKTuknZERAG"
      },
      "outputs": [],
      "source": [
        "# /content/drive/MyDrive/Cópia de Video_Games_sample.json.gz\n",
        "# /content/drive/MyDrive/Cópia de meta_Video_Games.json.gz"
      ]
    },
    {
      "cell_type": "code",
      "source": [
        "!gunzip \"/content/drive/MyDrive/Cópia de meta_Video_Games.json.gz\"\n",
        "!gunzip \"/content/drive/MyDrive/Cópia de Video_Games_sample.json.gz\""
      ],
      "metadata": {
        "id": "NvnRlymtFrpl"
      },
      "execution_count": null,
      "outputs": []
    },
    {
      "cell_type": "code",
      "source": [
        "sample_games_path = '/content/drive/MyDrive/Cópia de Video_Games_sample.json'\n",
        "meta_video_games_path = '/content/drive/MyDrive/Cópia de meta_Video_Games.json'"
      ],
      "metadata": {
        "id": "n6MPy9MdJT9W"
      },
      "execution_count": 1,
      "outputs": []
    },
    {
      "cell_type": "markdown",
      "source": [
        "# Bibliotecas"
      ],
      "metadata": {
        "id": "GgmMfrNSP92J"
      }
    },
    {
      "cell_type": "code",
      "source": [
        "import pandas as pd\n",
        "\n",
        "pd.options.display.max_rows=10\n",
        "pd.options.display.float_format = '{:.3f}'.format\n",
        "\n",
        "\n",
        "import numpy as np\n",
        "import matplotlib.pyplot as plt\n",
        "import seaborn as sns\n",
        "\n",
        "import warnings\n",
        "warnings.filterwarnings('always')\n",
        "warnings.filterwarnings('ignore')\n",
        "\n",
        "import datetime"
      ],
      "metadata": {
        "id": "rYEEe5AkQIT9"
      },
      "execution_count": 2,
      "outputs": []
    },
    {
      "cell_type": "markdown",
      "source": [
        "# EDA"
      ],
      "metadata": {
        "id": "5o7GY_EAP4O6"
      }
    },
    {
      "cell_type": "markdown",
      "source": [
        "O dataset Video_Games_sample, são dados de comentarios feitos nos produtos da amazon. É possivel identificar as colunas, de acordo com a imagem.\n",
        "![image.png](data:image/png;base64,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)\n"
      ],
      "metadata": {
        "id": "XqW8-hKB4Bhm"
      }
    },
    {
      "cell_type": "code",
      "source": [
        "sample_games_df = pd.read_json(sample_games_path,lines=True)\n",
        "\n",
        "meta_games_df = pd.read_json(meta_video_games_path, lines=True)"
      ],
      "metadata": {
        "id": "ENA4opEaPsmc"
      },
      "execution_count": 3,
      "outputs": []
    },
    {
      "cell_type": "markdown",
      "source": [
        "Temos que ter em mente, o nosso primeiro objetivo, que é realizar a classificação das linhas que possuem o `verified` igual a NaN, para isto, iremos primeiramente separar o dataset, em 2, um contendo apenas as linhas com NaN, e outro com valores `int64`."
      ],
      "metadata": {
        "id": "r-tkLBxfYcXl"
      }
    },
    {
      "cell_type": "code",
      "source": [
        "# Olhar as 5 primeiras linhas do sample_games_df\n",
        "print(sample_games_df.shape)\n",
        "display(sample_games_df.head())"
      ],
      "metadata": {
        "colab": {
          "base_uri": "https://localhost:8080/",
          "height": 355
        },
        "id": "DiW_XfnRQwee",
        "outputId": "9e831f72-8c0a-4274-e6af-fe2f6b87817a"
      },
      "execution_count": null,
      "outputs": [
        {
          "output_type": "stream",
          "name": "stdout",
          "text": [
            "(453562, 12)\n"
          ]
        },
        {
          "output_type": "display_data",
          "data": {
            "text/plain": [
              "   overall   reviewTime      reviewerID        asin  \\\n",
              "0        1   01 2, 2018  A16FEXIKAPT24U  B00000JRSB   \n",
              "1        5   01 2, 2018  A3ISBEPYLY8IMO  B00000JRSB   \n",
              "2        5  12 21, 2017  A1RIUB1PZWLOVZ  B00000JRSB   \n",
              "3        5  12 20, 2017  A2VY0K54SOCG0F  B00000JRSB   \n",
              "4        5  12 19, 2017  A1ABJQ2REV14OQ  B00000JRSB   \n",
              "\n",
              "                        style     reviewerName  \\\n",
              "0  {'Format:': ' Video Game'}   Nicholas Sabin   \n",
              "1  {'Format:': ' Video Game'}            Jimmy   \n",
              "2  {'Format:': ' Video Game'}  Amazon Customer   \n",
              "3  {'Format:': ' Video Game'}     Oscentatious   \n",
              "4  {'Format:': ' Video Game'}           Thiago   \n",
              "\n",
              "                                          reviewText  \\\n",
              "0            Game disc was cracked thats pretty lame   \n",
              "1  Received this in perfect condition. Great rese...   \n",
              "2  I had a hard time finding this game locally or...   \n",
              "3  This game is just as amazing as the first time...   \n",
              "4  I bought as a gift for my friend, she is so ex...   \n",
              "\n",
              "                                             summary  unixReviewTime  \\\n",
              "0                            Game disc 1 was cracked      1514851200   \n",
              "1  Received this in perfect condition. Great rese...      1514851200   \n",
              "2               I am very pleased with this purchase      1513814400   \n",
              "3                This is the best deal for this game      1513728000   \n",
              "4                            Loved by lots of people      1513641600   \n",
              "\n",
              "   verified vote image  \n",
              "0       NaN  NaN   NaN  \n",
              "1     1.000  NaN   NaN  \n",
              "2     1.000  NaN   NaN  \n",
              "3     0.000  NaN   NaN  \n",
              "4     1.000  NaN   NaN  "
            ],
            "text/html": [
              "\n",
              "  <div id=\"df-a22d15d4-740e-46d8-9603-b4e59d8b3938\">\n",
              "    <div class=\"colab-df-container\">\n",
              "      <div>\n",
              "<style scoped>\n",
              "    .dataframe tbody tr th:only-of-type {\n",
              "        vertical-align: middle;\n",
              "    }\n",
              "\n",
              "    .dataframe tbody tr th {\n",
              "        vertical-align: top;\n",
              "    }\n",
              "\n",
              "    .dataframe thead th {\n",
              "        text-align: right;\n",
              "    }\n",
              "</style>\n",
              "<table border=\"1\" class=\"dataframe\">\n",
              "  <thead>\n",
              "    <tr style=\"text-align: right;\">\n",
              "      <th></th>\n",
              "      <th>overall</th>\n",
              "      <th>reviewTime</th>\n",
              "      <th>reviewerID</th>\n",
              "      <th>asin</th>\n",
              "      <th>style</th>\n",
              "      <th>reviewerName</th>\n",
              "      <th>reviewText</th>\n",
              "      <th>summary</th>\n",
              "      <th>unixReviewTime</th>\n",
              "      <th>verified</th>\n",
              "      <th>vote</th>\n",
              "      <th>image</th>\n",
              "    </tr>\n",
              "  </thead>\n",
              "  <tbody>\n",
              "    <tr>\n",
              "      <th>0</th>\n",
              "      <td>1</td>\n",
              "      <td>01 2, 2018</td>\n",
              "      <td>A16FEXIKAPT24U</td>\n",
              "      <td>B00000JRSB</td>\n",
              "      <td>{'Format:': ' Video Game'}</td>\n",
              "      <td>Nicholas Sabin</td>\n",
              "      <td>Game disc was cracked thats pretty lame</td>\n",
              "      <td>Game disc 1 was cracked</td>\n",
              "      <td>1514851200</td>\n",
              "      <td>NaN</td>\n",
              "      <td>NaN</td>\n",
              "      <td>NaN</td>\n",
              "    </tr>\n",
              "    <tr>\n",
              "      <th>1</th>\n",
              "      <td>5</td>\n",
              "      <td>01 2, 2018</td>\n",
              "      <td>A3ISBEPYLY8IMO</td>\n",
              "      <td>B00000JRSB</td>\n",
              "      <td>{'Format:': ' Video Game'}</td>\n",
              "      <td>Jimmy</td>\n",
              "      <td>Received this in perfect condition. Great rese...</td>\n",
              "      <td>Received this in perfect condition. Great rese...</td>\n",
              "      <td>1514851200</td>\n",
              "      <td>1.000</td>\n",
              "      <td>NaN</td>\n",
              "      <td>NaN</td>\n",
              "    </tr>\n",
              "    <tr>\n",
              "      <th>2</th>\n",
              "      <td>5</td>\n",
              "      <td>12 21, 2017</td>\n",
              "      <td>A1RIUB1PZWLOVZ</td>\n",
              "      <td>B00000JRSB</td>\n",
              "      <td>{'Format:': ' Video Game'}</td>\n",
              "      <td>Amazon Customer</td>\n",
              "      <td>I had a hard time finding this game locally or...</td>\n",
              "      <td>I am very pleased with this purchase</td>\n",
              "      <td>1513814400</td>\n",
              "      <td>1.000</td>\n",
              "      <td>NaN</td>\n",
              "      <td>NaN</td>\n",
              "    </tr>\n",
              "    <tr>\n",
              "      <th>3</th>\n",
              "      <td>5</td>\n",
              "      <td>12 20, 2017</td>\n",
              "      <td>A2VY0K54SOCG0F</td>\n",
              "      <td>B00000JRSB</td>\n",
              "      <td>{'Format:': ' Video Game'}</td>\n",
              "      <td>Oscentatious</td>\n",
              "      <td>This game is just as amazing as the first time...</td>\n",
              "      <td>This is the best deal for this game</td>\n",
              "      <td>1513728000</td>\n",
              "      <td>0.000</td>\n",
              "      <td>NaN</td>\n",
              "      <td>NaN</td>\n",
              "    </tr>\n",
              "    <tr>\n",
              "      <th>4</th>\n",
              "      <td>5</td>\n",
              "      <td>12 19, 2017</td>\n",
              "      <td>A1ABJQ2REV14OQ</td>\n",
              "      <td>B00000JRSB</td>\n",
              "      <td>{'Format:': ' Video Game'}</td>\n",
              "      <td>Thiago</td>\n",
              "      <td>I bought as a gift for my friend, she is so ex...</td>\n",
              "      <td>Loved by lots of people</td>\n",
              "      <td>1513641600</td>\n",
              "      <td>1.000</td>\n",
              "      <td>NaN</td>\n",
              "      <td>NaN</td>\n",
              "    </tr>\n",
              "  </tbody>\n",
              "</table>\n",
              "</div>\n",
              "      <button class=\"colab-df-convert\" onclick=\"convertToInteractive('df-a22d15d4-740e-46d8-9603-b4e59d8b3938')\"\n",
              "              title=\"Convert this dataframe to an interactive table.\"\n",
              "              style=\"display:none;\">\n",
              "        \n",
              "  <svg xmlns=\"http://www.w3.org/2000/svg\" height=\"24px\"viewBox=\"0 0 24 24\"\n",
              "       width=\"24px\">\n",
              "    <path d=\"M0 0h24v24H0V0z\" fill=\"none\"/>\n",
              "    <path d=\"M18.56 5.44l.94 2.06.94-2.06 2.06-.94-2.06-.94-.94-2.06-.94 2.06-2.06.94zm-11 1L8.5 8.5l.94-2.06 2.06-.94-2.06-.94L8.5 2.5l-.94 2.06-2.06.94zm10 10l.94 2.06.94-2.06 2.06-.94-2.06-.94-.94-2.06-.94 2.06-2.06.94z\"/><path d=\"M17.41 7.96l-1.37-1.37c-.4-.4-.92-.59-1.43-.59-.52 0-1.04.2-1.43.59L10.3 9.45l-7.72 7.72c-.78.78-.78 2.05 0 2.83L4 21.41c.39.39.9.59 1.41.59.51 0 1.02-.2 1.41-.59l7.78-7.78 2.81-2.81c.8-.78.8-2.07 0-2.86zM5.41 20L4 18.59l7.72-7.72 1.47 1.35L5.41 20z\"/>\n",
              "  </svg>\n",
              "      </button>\n",
              "      \n",
              "  <style>\n",
              "    .colab-df-container {\n",
              "      display:flex;\n",
              "      flex-wrap:wrap;\n",
              "      gap: 12px;\n",
              "    }\n",
              "\n",
              "    .colab-df-convert {\n",
              "      background-color: #E8F0FE;\n",
              "      border: none;\n",
              "      border-radius: 50%;\n",
              "      cursor: pointer;\n",
              "      display: none;\n",
              "      fill: #1967D2;\n",
              "      height: 32px;\n",
              "      padding: 0 0 0 0;\n",
              "      width: 32px;\n",
              "    }\n",
              "\n",
              "    .colab-df-convert:hover {\n",
              "      background-color: #E2EBFA;\n",
              "      box-shadow: 0px 1px 2px rgba(60, 64, 67, 0.3), 0px 1px 3px 1px rgba(60, 64, 67, 0.15);\n",
              "      fill: #174EA6;\n",
              "    }\n",
              "\n",
              "    [theme=dark] .colab-df-convert {\n",
              "      background-color: #3B4455;\n",
              "      fill: #D2E3FC;\n",
              "    }\n",
              "\n",
              "    [theme=dark] .colab-df-convert:hover {\n",
              "      background-color: #434B5C;\n",
              "      box-shadow: 0px 1px 3px 1px rgba(0, 0, 0, 0.15);\n",
              "      filter: drop-shadow(0px 1px 2px rgba(0, 0, 0, 0.3));\n",
              "      fill: #FFFFFF;\n",
              "    }\n",
              "  </style>\n",
              "\n",
              "      <script>\n",
              "        const buttonEl =\n",
              "          document.querySelector('#df-a22d15d4-740e-46d8-9603-b4e59d8b3938 button.colab-df-convert');\n",
              "        buttonEl.style.display =\n",
              "          google.colab.kernel.accessAllowed ? 'block' : 'none';\n",
              "\n",
              "        async function convertToInteractive(key) {\n",
              "          const element = document.querySelector('#df-a22d15d4-740e-46d8-9603-b4e59d8b3938');\n",
              "          const dataTable =\n",
              "            await google.colab.kernel.invokeFunction('convertToInteractive',\n",
              "                                                     [key], {});\n",
              "          if (!dataTable) return;\n",
              "\n",
              "          const docLinkHtml = 'Like what you see? Visit the ' +\n",
              "            '<a target=\"_blank\" href=https://colab.research.google.com/notebooks/data_table.ipynb>data table notebook</a>'\n",
              "            + ' to learn more about interactive tables.';\n",
              "          element.innerHTML = '';\n",
              "          dataTable['output_type'] = 'display_data';\n",
              "          await google.colab.output.renderOutput(dataTable, element);\n",
              "          const docLink = document.createElement('div');\n",
              "          docLink.innerHTML = docLinkHtml;\n",
              "          element.appendChild(docLink);\n",
              "        }\n",
              "      </script>\n",
              "    </div>\n",
              "  </div>\n",
              "  "
            ]
          },
          "metadata": {}
        }
      ]
    },
    {
      "cell_type": "code",
      "source": [
        "verified_nan_df = sample_games_df[sample_games_df.verified.isnull()]\n",
        "verified_nan_df.shape"
      ],
      "metadata": {
        "colab": {
          "base_uri": "https://localhost:8080/"
        },
        "id": "PIg9BejrZVEH",
        "outputId": "948e62a9-454a-4716-d8f4-c7d619a3990c"
      },
      "execution_count": 4,
      "outputs": [
        {
          "output_type": "execute_result",
          "data": {
            "text/plain": [
              "(69016, 12)"
            ]
          },
          "metadata": {},
          "execution_count": 4
        }
      ]
    },
    {
      "cell_type": "code",
      "source": [
        "verified_nan_df.to_csv('Video_games_sampled_to_predict.csv', index=False)"
      ],
      "metadata": {
        "id": "22qMYfnTaEEy"
      },
      "execution_count": 5,
      "outputs": []
    },
    {
      "cell_type": "code",
      "source": [
        "sample_games_df = sample_games_df[~sample_games_df.verified.isnull()]"
      ],
      "metadata": {
        "id": "wLXuXfhrad6d"
      },
      "execution_count": 6,
      "outputs": []
    },
    {
      "cell_type": "code",
      "source": [
        "# Colunas do sample_games_df\n",
        "sample_games_df.columns"
      ],
      "metadata": {
        "colab": {
          "base_uri": "https://localhost:8080/"
        },
        "id": "sSJD1bYkScso",
        "outputId": "b6597d9e-e83f-4b3b-a366-852de5203187"
      },
      "execution_count": null,
      "outputs": [
        {
          "output_type": "execute_result",
          "data": {
            "text/plain": [
              "Index(['overall', 'reviewTime', 'reviewerID', 'asin', 'style', 'reviewerName',\n",
              "       'reviewText', 'summary', 'unixReviewTime', 'verified', 'vote', 'image'],\n",
              "      dtype='object')"
            ]
          },
          "metadata": {},
          "execution_count": 9
        }
      ]
    },
    {
      "cell_type": "markdown",
      "source": [
        "## Dicionario das variaveis, e seus valores"
      ],
      "metadata": {
        "id": "e39JcN9say9C"
      }
    },
    {
      "cell_type": "markdown",
      "source": [
        "Agora que fizemos a separação do dataset, podemos nos concentrar agora em cada coluna e fazer os devidos tratamentos."
      ],
      "metadata": {
        "id": "qyCzrfEXa44C"
      }
    },
    {
      "cell_type": "markdown",
      "source": [
        "`overall`: Nota para da avaliação do produto\n",
        "\n",
        "`reviewTime`: Data da publicação do review ( Mês / Dia / Ano )\n",
        "\n",
        "`reviewerID`: Identificação do usuario, excluir.\n",
        "\n",
        "`asin`: Identificação do produto. \n",
        "\n",
        "`style`: Categoria principal do produto.\n",
        "\n",
        "`reviewerName`: identificação do usuario, excluir.\n",
        "\n",
        "`reviewText`: Texto do review\n",
        "\n",
        "`summary`: Sumario do texto\n",
        "\n",
        "`unixReviewTime`: Excluir, mesma informação da coluna reviewTime\n",
        "\n",
        "`verified`: Indica se o comentario é verificado ou não.\n",
        "\n",
        "`vote`: Relevancia do comentario, quantidade de like que o comentario recebeu.\n",
        "\n",
        "`image`: Caso a pessoa poste uma imagem junto com o comentario. o Url vai aparecer em uma lista."
      ],
      "metadata": {
        "id": "LtXQj9snfcAU"
      }
    },
    {
      "cell_type": "code",
      "source": [
        "sample_games_df.head()"
      ],
      "metadata": {
        "colab": {
          "base_uri": "https://localhost:8080/",
          "height": 337
        },
        "id": "I31S1bM2a_cE",
        "outputId": "346684c3-09de-4a95-ff6c-a30363521f2b"
      },
      "execution_count": null,
      "outputs": [
        {
          "output_type": "execute_result",
          "data": {
            "text/plain": [
              "   overall   reviewTime      reviewerID        asin  \\\n",
              "1        5   01 2, 2018  A3ISBEPYLY8IMO  B00000JRSB   \n",
              "2        5  12 21, 2017  A1RIUB1PZWLOVZ  B00000JRSB   \n",
              "3        5  12 20, 2017  A2VY0K54SOCG0F  B00000JRSB   \n",
              "4        5  12 19, 2017  A1ABJQ2REV14OQ  B00000JRSB   \n",
              "5        5   12 9, 2017  A368DF2G0T502X  B00000JRSB   \n",
              "\n",
              "                        style     reviewerName  \\\n",
              "1  {'Format:': ' Video Game'}            Jimmy   \n",
              "2  {'Format:': ' Video Game'}  Amazon Customer   \n",
              "3  {'Format:': ' Video Game'}     Oscentatious   \n",
              "4  {'Format:': ' Video Game'}           Thiago   \n",
              "5  {'Format:': ' Video Game'}  Jonathan carter   \n",
              "\n",
              "                                          reviewText  \\\n",
              "1  Received this in perfect condition. Great rese...   \n",
              "2  I had a hard time finding this game locally or...   \n",
              "3  This game is just as amazing as the first time...   \n",
              "4  I bought as a gift for my friend, she is so ex...   \n",
              "5     Looks good, some scratches on discs but plays.   \n",
              "\n",
              "                                             summary  unixReviewTime  \\\n",
              "1  Received this in perfect condition. Great rese...      1514851200   \n",
              "2               I am very pleased with this purchase      1513814400   \n",
              "3                This is the best deal for this game      1513728000   \n",
              "4                            Loved by lots of people      1513641600   \n",
              "5                                         Five Stars      1512777600   \n",
              "\n",
              "   verified vote image  \n",
              "1     1.000  NaN   NaN  \n",
              "2     1.000  NaN   NaN  \n",
              "3     0.000  NaN   NaN  \n",
              "4     1.000  NaN   NaN  \n",
              "5     1.000  NaN   NaN  "
            ],
            "text/html": [
              "\n",
              "  <div id=\"df-785d156e-a088-42b8-9a61-54c814316a91\">\n",
              "    <div class=\"colab-df-container\">\n",
              "      <div>\n",
              "<style scoped>\n",
              "    .dataframe tbody tr th:only-of-type {\n",
              "        vertical-align: middle;\n",
              "    }\n",
              "\n",
              "    .dataframe tbody tr th {\n",
              "        vertical-align: top;\n",
              "    }\n",
              "\n",
              "    .dataframe thead th {\n",
              "        text-align: right;\n",
              "    }\n",
              "</style>\n",
              "<table border=\"1\" class=\"dataframe\">\n",
              "  <thead>\n",
              "    <tr style=\"text-align: right;\">\n",
              "      <th></th>\n",
              "      <th>overall</th>\n",
              "      <th>reviewTime</th>\n",
              "      <th>reviewerID</th>\n",
              "      <th>asin</th>\n",
              "      <th>style</th>\n",
              "      <th>reviewerName</th>\n",
              "      <th>reviewText</th>\n",
              "      <th>summary</th>\n",
              "      <th>unixReviewTime</th>\n",
              "      <th>verified</th>\n",
              "      <th>vote</th>\n",
              "      <th>image</th>\n",
              "    </tr>\n",
              "  </thead>\n",
              "  <tbody>\n",
              "    <tr>\n",
              "      <th>1</th>\n",
              "      <td>5</td>\n",
              "      <td>01 2, 2018</td>\n",
              "      <td>A3ISBEPYLY8IMO</td>\n",
              "      <td>B00000JRSB</td>\n",
              "      <td>{'Format:': ' Video Game'}</td>\n",
              "      <td>Jimmy</td>\n",
              "      <td>Received this in perfect condition. Great rese...</td>\n",
              "      <td>Received this in perfect condition. Great rese...</td>\n",
              "      <td>1514851200</td>\n",
              "      <td>1.000</td>\n",
              "      <td>NaN</td>\n",
              "      <td>NaN</td>\n",
              "    </tr>\n",
              "    <tr>\n",
              "      <th>2</th>\n",
              "      <td>5</td>\n",
              "      <td>12 21, 2017</td>\n",
              "      <td>A1RIUB1PZWLOVZ</td>\n",
              "      <td>B00000JRSB</td>\n",
              "      <td>{'Format:': ' Video Game'}</td>\n",
              "      <td>Amazon Customer</td>\n",
              "      <td>I had a hard time finding this game locally or...</td>\n",
              "      <td>I am very pleased with this purchase</td>\n",
              "      <td>1513814400</td>\n",
              "      <td>1.000</td>\n",
              "      <td>NaN</td>\n",
              "      <td>NaN</td>\n",
              "    </tr>\n",
              "    <tr>\n",
              "      <th>3</th>\n",
              "      <td>5</td>\n",
              "      <td>12 20, 2017</td>\n",
              "      <td>A2VY0K54SOCG0F</td>\n",
              "      <td>B00000JRSB</td>\n",
              "      <td>{'Format:': ' Video Game'}</td>\n",
              "      <td>Oscentatious</td>\n",
              "      <td>This game is just as amazing as the first time...</td>\n",
              "      <td>This is the best deal for this game</td>\n",
              "      <td>1513728000</td>\n",
              "      <td>0.000</td>\n",
              "      <td>NaN</td>\n",
              "      <td>NaN</td>\n",
              "    </tr>\n",
              "    <tr>\n",
              "      <th>4</th>\n",
              "      <td>5</td>\n",
              "      <td>12 19, 2017</td>\n",
              "      <td>A1ABJQ2REV14OQ</td>\n",
              "      <td>B00000JRSB</td>\n",
              "      <td>{'Format:': ' Video Game'}</td>\n",
              "      <td>Thiago</td>\n",
              "      <td>I bought as a gift for my friend, she is so ex...</td>\n",
              "      <td>Loved by lots of people</td>\n",
              "      <td>1513641600</td>\n",
              "      <td>1.000</td>\n",
              "      <td>NaN</td>\n",
              "      <td>NaN</td>\n",
              "    </tr>\n",
              "    <tr>\n",
              "      <th>5</th>\n",
              "      <td>5</td>\n",
              "      <td>12 9, 2017</td>\n",
              "      <td>A368DF2G0T502X</td>\n",
              "      <td>B00000JRSB</td>\n",
              "      <td>{'Format:': ' Video Game'}</td>\n",
              "      <td>Jonathan carter</td>\n",
              "      <td>Looks good, some scratches on discs but plays.</td>\n",
              "      <td>Five Stars</td>\n",
              "      <td>1512777600</td>\n",
              "      <td>1.000</td>\n",
              "      <td>NaN</td>\n",
              "      <td>NaN</td>\n",
              "    </tr>\n",
              "  </tbody>\n",
              "</table>\n",
              "</div>\n",
              "      <button class=\"colab-df-convert\" onclick=\"convertToInteractive('df-785d156e-a088-42b8-9a61-54c814316a91')\"\n",
              "              title=\"Convert this dataframe to an interactive table.\"\n",
              "              style=\"display:none;\">\n",
              "        \n",
              "  <svg xmlns=\"http://www.w3.org/2000/svg\" height=\"24px\"viewBox=\"0 0 24 24\"\n",
              "       width=\"24px\">\n",
              "    <path d=\"M0 0h24v24H0V0z\" fill=\"none\"/>\n",
              "    <path d=\"M18.56 5.44l.94 2.06.94-2.06 2.06-.94-2.06-.94-.94-2.06-.94 2.06-2.06.94zm-11 1L8.5 8.5l.94-2.06 2.06-.94-2.06-.94L8.5 2.5l-.94 2.06-2.06.94zm10 10l.94 2.06.94-2.06 2.06-.94-2.06-.94-.94-2.06-.94 2.06-2.06.94z\"/><path d=\"M17.41 7.96l-1.37-1.37c-.4-.4-.92-.59-1.43-.59-.52 0-1.04.2-1.43.59L10.3 9.45l-7.72 7.72c-.78.78-.78 2.05 0 2.83L4 21.41c.39.39.9.59 1.41.59.51 0 1.02-.2 1.41-.59l7.78-7.78 2.81-2.81c.8-.78.8-2.07 0-2.86zM5.41 20L4 18.59l7.72-7.72 1.47 1.35L5.41 20z\"/>\n",
              "  </svg>\n",
              "      </button>\n",
              "      \n",
              "  <style>\n",
              "    .colab-df-container {\n",
              "      display:flex;\n",
              "      flex-wrap:wrap;\n",
              "      gap: 12px;\n",
              "    }\n",
              "\n",
              "    .colab-df-convert {\n",
              "      background-color: #E8F0FE;\n",
              "      border: none;\n",
              "      border-radius: 50%;\n",
              "      cursor: pointer;\n",
              "      display: none;\n",
              "      fill: #1967D2;\n",
              "      height: 32px;\n",
              "      padding: 0 0 0 0;\n",
              "      width: 32px;\n",
              "    }\n",
              "\n",
              "    .colab-df-convert:hover {\n",
              "      background-color: #E2EBFA;\n",
              "      box-shadow: 0px 1px 2px rgba(60, 64, 67, 0.3), 0px 1px 3px 1px rgba(60, 64, 67, 0.15);\n",
              "      fill: #174EA6;\n",
              "    }\n",
              "\n",
              "    [theme=dark] .colab-df-convert {\n",
              "      background-color: #3B4455;\n",
              "      fill: #D2E3FC;\n",
              "    }\n",
              "\n",
              "    [theme=dark] .colab-df-convert:hover {\n",
              "      background-color: #434B5C;\n",
              "      box-shadow: 0px 1px 3px 1px rgba(0, 0, 0, 0.15);\n",
              "      filter: drop-shadow(0px 1px 2px rgba(0, 0, 0, 0.3));\n",
              "      fill: #FFFFFF;\n",
              "    }\n",
              "  </style>\n",
              "\n",
              "      <script>\n",
              "        const buttonEl =\n",
              "          document.querySelector('#df-785d156e-a088-42b8-9a61-54c814316a91 button.colab-df-convert');\n",
              "        buttonEl.style.display =\n",
              "          google.colab.kernel.accessAllowed ? 'block' : 'none';\n",
              "\n",
              "        async function convertToInteractive(key) {\n",
              "          const element = document.querySelector('#df-785d156e-a088-42b8-9a61-54c814316a91');\n",
              "          const dataTable =\n",
              "            await google.colab.kernel.invokeFunction('convertToInteractive',\n",
              "                                                     [key], {});\n",
              "          if (!dataTable) return;\n",
              "\n",
              "          const docLinkHtml = 'Like what you see? Visit the ' +\n",
              "            '<a target=\"_blank\" href=https://colab.research.google.com/notebooks/data_table.ipynb>data table notebook</a>'\n",
              "            + ' to learn more about interactive tables.';\n",
              "          element.innerHTML = '';\n",
              "          dataTable['output_type'] = 'display_data';\n",
              "          await google.colab.output.renderOutput(dataTable, element);\n",
              "          const docLink = document.createElement('div');\n",
              "          docLink.innerHTML = docLinkHtml;\n",
              "          element.appendChild(docLink);\n",
              "        }\n",
              "      </script>\n",
              "    </div>\n",
              "  </div>\n",
              "  "
            ]
          },
          "metadata": {},
          "execution_count": 10
        }
      ]
    },
    {
      "cell_type": "code",
      "source": [
        "sample_games_df.info()"
      ],
      "metadata": {
        "colab": {
          "base_uri": "https://localhost:8080/"
        },
        "id": "P8jGRVuMbFE7",
        "outputId": "b66b3a1b-ffab-4731-c9c8-0271010e42ae"
      },
      "execution_count": null,
      "outputs": [
        {
          "output_type": "stream",
          "name": "stdout",
          "text": [
            "<class 'pandas.core.frame.DataFrame'>\n",
            "Int64Index: 384546 entries, 1 to 453561\n",
            "Data columns (total 12 columns):\n",
            " #   Column          Non-Null Count   Dtype  \n",
            "---  ------          --------------   -----  \n",
            " 0   overall         384546 non-null  int64  \n",
            " 1   reviewTime      384546 non-null  object \n",
            " 2   reviewerID      384546 non-null  object \n",
            " 3   asin            384546 non-null  object \n",
            " 4   style           269703 non-null  object \n",
            " 5   reviewerName    384506 non-null  object \n",
            " 6   reviewText      384252 non-null  object \n",
            " 7   summary         384407 non-null  object \n",
            " 8   unixReviewTime  384546 non-null  int64  \n",
            " 9   verified        384546 non-null  float64\n",
            " 10  vote            48373 non-null   object \n",
            " 11  image           3907 non-null    object \n",
            "dtypes: float64(1), int64(2), object(9)\n",
            "memory usage: 38.1+ MB\n"
          ]
        }
      ]
    },
    {
      "cell_type": "code",
      "source": [
        "sample_games_df.drop(['reviewerID', 'reviewerName', 'unixReviewTime', 'image'],axis=1,inplace=True)"
      ],
      "metadata": {
        "id": "rS3jfvOJ2M16"
      },
      "execution_count": null,
      "outputs": []
    },
    {
      "cell_type": "code",
      "source": [
        "sample_games_df['reviewTime'] = pd.to_datetime(sample_games_df['reviewTime'])"
      ],
      "metadata": {
        "colab": {
          "base_uri": "https://localhost:8080/"
        },
        "id": "0Vy-J36TrV7b",
        "outputId": "d0745e46-00f5-4025-a506-b2c143d2a345"
      },
      "execution_count": null,
      "outputs": [
        {
          "output_type": "execute_result",
          "data": {
            "text/plain": [
              "1        2018-01-02\n",
              "2        2017-12-21\n",
              "3        2017-12-20\n",
              "4        2017-12-19\n",
              "5        2017-12-09\n",
              "            ...    \n",
              "453556   2018-09-30\n",
              "453557   2018-09-30\n",
              "453558   2018-09-30\n",
              "453559   2018-09-29\n",
              "453561   2018-09-27\n",
              "Name: reviewTime, Length: 384546, dtype: datetime64[ns]"
            ]
          },
          "metadata": {},
          "execution_count": 18
        }
      ]
    },
    {
      "cell_type": "markdown",
      "source": [
        "## Coluna Style"
      ],
      "metadata": {
        "id": "tAM4S1I-wMeO"
      }
    },
    {
      "cell_type": "markdown",
      "source": [
        "Durante a limpeza desta coluna, encontramos que alguns valores na coluna, fugiam do formato de dicionario que esperavamos. Pois são valores ausentes.\n",
        "Com o codigo abaixo, descobrimos que a coluna Style tem 13 sub itens em seus valores."
      ],
      "metadata": {
        "id": "4NEYMLW9wO87"
      }
    },
    {
      "cell_type": "code",
      "source": [
        "keys = []\n",
        "error_indices = []\n",
        "for i, value in enumerate(sample_games_df['style'].values):\n",
        "  try:\n",
        "    keys.append(list(value.keys()))\n",
        "  except AttributeError:\n",
        "    error_indices.append(i)\n",
        " \n",
        "  "
      ],
      "metadata": {
        "id": "vj7apK4RqhXn"
      },
      "execution_count": null,
      "outputs": []
    },
    {
      "cell_type": "code",
      "source": [
        "unique_values = []\n",
        "for values in keys:\n",
        "  unique_values.extend(values)"
      ],
      "metadata": {
        "id": "L03ht8Huyofr"
      },
      "execution_count": null,
      "outputs": []
    },
    {
      "cell_type": "code",
      "source": [
        "set(unique_values)"
      ],
      "metadata": {
        "colab": {
          "base_uri": "https://localhost:8080/"
        },
        "id": "YvS4xvKfzFFu",
        "outputId": "a4d6388c-90e3-46da-dff4-764ef1972cba"
      },
      "execution_count": null,
      "outputs": [
        {
          "output_type": "execute_result",
          "data": {
            "text/plain": [
              "{'Color:',\n",
              " 'Configuration:',\n",
              " 'Content:',\n",
              " 'Edition:',\n",
              " 'Format:',\n",
              " 'Length:',\n",
              " 'Package Quantity:',\n",
              " 'Package Type:',\n",
              " 'Pattern:',\n",
              " 'Platform:',\n",
              " 'Size:',\n",
              " 'Style:',\n",
              " 'Subscription Length:'}"
            ]
          },
          "metadata": {},
          "execution_count": 67
        }
      ]
    },
    {
      "cell_type": "code",
      "source": [
        "len(set(unique_values))"
      ],
      "metadata": {
        "colab": {
          "base_uri": "https://localhost:8080/"
        },
        "id": "GM5WZsu0zaA0",
        "outputId": "16e7866c-1d60-4215-d262-76c27a658ea7"
      },
      "execution_count": null,
      "outputs": [
        {
          "output_type": "execute_result",
          "data": {
            "text/plain": [
              "13"
            ]
          },
          "metadata": {},
          "execution_count": 69
        }
      ]
    },
    {
      "cell_type": "code",
      "source": [
        "sample_games_df.verified.value_counts()"
      ],
      "metadata": {
        "colab": {
          "base_uri": "https://localhost:8080/"
        },
        "id": "faCuaKt-TIEe",
        "outputId": "b40d0d61-0c36-4cf1-8a46-69cd7daf9299"
      },
      "execution_count": null,
      "outputs": [
        {
          "output_type": "execute_result",
          "data": {
            "text/plain": [
              "1.000    314250\n",
              "0.000     70296\n",
              "Name: verified, dtype: int64"
            ]
          },
          "metadata": {},
          "execution_count": 12
        }
      ]
    },
    {
      "cell_type": "markdown",
      "source": [
        "# 1° Parte Classificação"
      ],
      "metadata": {
        "id": "nt4OLemn2SDi"
      }
    },
    {
      "cell_type": "markdown",
      "source": [
        "## Clean Dataset"
      ],
      "metadata": {
        "id": "mC4MphDtI3K1"
      }
    },
    {
      "cell_type": "code",
      "source": [
        "sample_games_df.columns"
      ],
      "metadata": {
        "colab": {
          "base_uri": "https://localhost:8080/"
        },
        "id": "LJ2KrFyF2Q7V",
        "outputId": "af27f963-ff72-44ad-fc58-b6674ace3eb5"
      },
      "execution_count": 18,
      "outputs": [
        {
          "output_type": "execute_result",
          "data": {
            "text/plain": [
              "Index(['overall', 'reviewTime', 'reviewerID', 'asin', 'style', 'reviewerName',\n",
              "       'reviewText', 'summary', 'unixReviewTime', 'verified', 'vote', 'image'],\n",
              "      dtype='object')"
            ]
          },
          "metadata": {},
          "execution_count": 18
        }
      ]
    },
    {
      "cell_type": "code",
      "source": [
        "sample_clean = sample_games_df[['overall', 'reviewText', 'summary', 'verified', 'vote']]"
      ],
      "metadata": {
        "id": "I6jyOHom2ZOf"
      },
      "execution_count": 7,
      "outputs": []
    },
    {
      "cell_type": "code",
      "source": [
        "sample_clean.dropna(subset=['reviewText', 'summary'], inplace=True)"
      ],
      "metadata": {
        "id": "sDkzk52x254X"
      },
      "execution_count": 8,
      "outputs": []
    },
    {
      "cell_type": "code",
      "source": [
        "sample_clean.fillna(value=0, inplace=True)"
      ],
      "metadata": {
        "id": "QTpPTeIg32Nz"
      },
      "execution_count": 9,
      "outputs": []
    },
    {
      "cell_type": "code",
      "source": [
        "sample_clean.reset_index(inplace=True,drop=True)"
      ],
      "metadata": {
        "id": "YNiTmm1S5GHG"
      },
      "execution_count": 10,
      "outputs": []
    },
    {
      "cell_type": "code",
      "source": [
        "index_error = []\n",
        "for idx, values in enumerate(sample_clean.vote.values):\n",
        "  try:\n",
        "    p = int(values)\n",
        "\n",
        "  except ValueError:\n",
        "    index_error.append(idx)"
      ],
      "metadata": {
        "id": "AnXiDRhJ4ucB"
      },
      "execution_count": 11,
      "outputs": []
    },
    {
      "cell_type": "code",
      "source": [
        "len(index_error)"
      ],
      "metadata": {
        "colab": {
          "base_uri": "https://localhost:8080/"
        },
        "id": "nrsMZSeT5eKE",
        "outputId": "f75a7def-e6cb-4aa8-d900-05bf64b28ca8"
      },
      "execution_count": 30,
      "outputs": [
        {
          "output_type": "execute_result",
          "data": {
            "text/plain": [
              "29"
            ]
          },
          "metadata": {},
          "execution_count": 30
        }
      ]
    },
    {
      "cell_type": "code",
      "source": [
        "sample_clean.drop(index_error, inplace=True)"
      ],
      "metadata": {
        "id": "PupKL0Gd5h_X"
      },
      "execution_count": 12,
      "outputs": []
    },
    {
      "cell_type": "code",
      "source": [
        "sample_clean['vote'] = sample_clean['vote'].astype('int64')"
      ],
      "metadata": {
        "id": "vdb3I72c8_KE"
      },
      "execution_count": 13,
      "outputs": []
    },
    {
      "cell_type": "code",
      "source": [
        "sample_clean['verified'].value_counts()"
      ],
      "metadata": {
        "colab": {
          "base_uri": "https://localhost:8080/"
        },
        "id": "9LpQ88sI210R",
        "outputId": "6ab1d528-a0fa-43ca-d8d9-827a20efd883"
      },
      "execution_count": 36,
      "outputs": [
        {
          "output_type": "execute_result",
          "data": {
            "text/plain": [
              "1.000    313859\n",
              "0.000     70242\n",
              "Name: verified, dtype: int64"
            ]
          },
          "metadata": {},
          "execution_count": 36
        }
      ]
    },
    {
      "cell_type": "code",
      "source": [
        "display(sample_clean.describe(percentiles=[0.05,0.25,0.5,0.75,0.9,0.99]))"
      ],
      "metadata": {
        "id": "L1h9FNte8J6Z",
        "colab": {
          "base_uri": "https://localhost:8080/",
          "height": 423
        },
        "outputId": "e802ab64-3691-4eee-f068-2e12699e00e0"
      },
      "execution_count": 37,
      "outputs": [
        {
          "output_type": "display_data",
          "data": {
            "text/plain": [
              "         overall   verified       vote\n",
              "count 384101.000 384101.000 384101.000\n",
              "mean       4.101      0.817      1.261\n",
              "std        1.396      0.387     11.698\n",
              "min        1.000      0.000      0.000\n",
              "5%         1.000      0.000      0.000\n",
              "...          ...        ...        ...\n",
              "50%        5.000      1.000      0.000\n",
              "75%        5.000      1.000      0.000\n",
              "90%        5.000      1.000      2.000\n",
              "99%        5.000      1.000     19.000\n",
              "max        5.000      1.000    900.000\n",
              "\n",
              "[11 rows x 3 columns]"
            ],
            "text/html": [
              "\n",
              "  <div id=\"df-570fcb85-86dd-4188-a247-ac6968eb9f64\">\n",
              "    <div class=\"colab-df-container\">\n",
              "      <div>\n",
              "<style scoped>\n",
              "    .dataframe tbody tr th:only-of-type {\n",
              "        vertical-align: middle;\n",
              "    }\n",
              "\n",
              "    .dataframe tbody tr th {\n",
              "        vertical-align: top;\n",
              "    }\n",
              "\n",
              "    .dataframe thead th {\n",
              "        text-align: right;\n",
              "    }\n",
              "</style>\n",
              "<table border=\"1\" class=\"dataframe\">\n",
              "  <thead>\n",
              "    <tr style=\"text-align: right;\">\n",
              "      <th></th>\n",
              "      <th>overall</th>\n",
              "      <th>verified</th>\n",
              "      <th>vote</th>\n",
              "    </tr>\n",
              "  </thead>\n",
              "  <tbody>\n",
              "    <tr>\n",
              "      <th>count</th>\n",
              "      <td>384101.000</td>\n",
              "      <td>384101.000</td>\n",
              "      <td>384101.000</td>\n",
              "    </tr>\n",
              "    <tr>\n",
              "      <th>mean</th>\n",
              "      <td>4.101</td>\n",
              "      <td>0.817</td>\n",
              "      <td>1.261</td>\n",
              "    </tr>\n",
              "    <tr>\n",
              "      <th>std</th>\n",
              "      <td>1.396</td>\n",
              "      <td>0.387</td>\n",
              "      <td>11.698</td>\n",
              "    </tr>\n",
              "    <tr>\n",
              "      <th>min</th>\n",
              "      <td>1.000</td>\n",
              "      <td>0.000</td>\n",
              "      <td>0.000</td>\n",
              "    </tr>\n",
              "    <tr>\n",
              "      <th>5%</th>\n",
              "      <td>1.000</td>\n",
              "      <td>0.000</td>\n",
              "      <td>0.000</td>\n",
              "    </tr>\n",
              "    <tr>\n",
              "      <th>...</th>\n",
              "      <td>...</td>\n",
              "      <td>...</td>\n",
              "      <td>...</td>\n",
              "    </tr>\n",
              "    <tr>\n",
              "      <th>50%</th>\n",
              "      <td>5.000</td>\n",
              "      <td>1.000</td>\n",
              "      <td>0.000</td>\n",
              "    </tr>\n",
              "    <tr>\n",
              "      <th>75%</th>\n",
              "      <td>5.000</td>\n",
              "      <td>1.000</td>\n",
              "      <td>0.000</td>\n",
              "    </tr>\n",
              "    <tr>\n",
              "      <th>90%</th>\n",
              "      <td>5.000</td>\n",
              "      <td>1.000</td>\n",
              "      <td>2.000</td>\n",
              "    </tr>\n",
              "    <tr>\n",
              "      <th>99%</th>\n",
              "      <td>5.000</td>\n",
              "      <td>1.000</td>\n",
              "      <td>19.000</td>\n",
              "    </tr>\n",
              "    <tr>\n",
              "      <th>max</th>\n",
              "      <td>5.000</td>\n",
              "      <td>1.000</td>\n",
              "      <td>900.000</td>\n",
              "    </tr>\n",
              "  </tbody>\n",
              "</table>\n",
              "<p>11 rows × 3 columns</p>\n",
              "</div>\n",
              "      <button class=\"colab-df-convert\" onclick=\"convertToInteractive('df-570fcb85-86dd-4188-a247-ac6968eb9f64')\"\n",
              "              title=\"Convert this dataframe to an interactive table.\"\n",
              "              style=\"display:none;\">\n",
              "        \n",
              "  <svg xmlns=\"http://www.w3.org/2000/svg\" height=\"24px\"viewBox=\"0 0 24 24\"\n",
              "       width=\"24px\">\n",
              "    <path d=\"M0 0h24v24H0V0z\" fill=\"none\"/>\n",
              "    <path d=\"M18.56 5.44l.94 2.06.94-2.06 2.06-.94-2.06-.94-.94-2.06-.94 2.06-2.06.94zm-11 1L8.5 8.5l.94-2.06 2.06-.94-2.06-.94L8.5 2.5l-.94 2.06-2.06.94zm10 10l.94 2.06.94-2.06 2.06-.94-2.06-.94-.94-2.06-.94 2.06-2.06.94z\"/><path d=\"M17.41 7.96l-1.37-1.37c-.4-.4-.92-.59-1.43-.59-.52 0-1.04.2-1.43.59L10.3 9.45l-7.72 7.72c-.78.78-.78 2.05 0 2.83L4 21.41c.39.39.9.59 1.41.59.51 0 1.02-.2 1.41-.59l7.78-7.78 2.81-2.81c.8-.78.8-2.07 0-2.86zM5.41 20L4 18.59l7.72-7.72 1.47 1.35L5.41 20z\"/>\n",
              "  </svg>\n",
              "      </button>\n",
              "      \n",
              "  <style>\n",
              "    .colab-df-container {\n",
              "      display:flex;\n",
              "      flex-wrap:wrap;\n",
              "      gap: 12px;\n",
              "    }\n",
              "\n",
              "    .colab-df-convert {\n",
              "      background-color: #E8F0FE;\n",
              "      border: none;\n",
              "      border-radius: 50%;\n",
              "      cursor: pointer;\n",
              "      display: none;\n",
              "      fill: #1967D2;\n",
              "      height: 32px;\n",
              "      padding: 0 0 0 0;\n",
              "      width: 32px;\n",
              "    }\n",
              "\n",
              "    .colab-df-convert:hover {\n",
              "      background-color: #E2EBFA;\n",
              "      box-shadow: 0px 1px 2px rgba(60, 64, 67, 0.3), 0px 1px 3px 1px rgba(60, 64, 67, 0.15);\n",
              "      fill: #174EA6;\n",
              "    }\n",
              "\n",
              "    [theme=dark] .colab-df-convert {\n",
              "      background-color: #3B4455;\n",
              "      fill: #D2E3FC;\n",
              "    }\n",
              "\n",
              "    [theme=dark] .colab-df-convert:hover {\n",
              "      background-color: #434B5C;\n",
              "      box-shadow: 0px 1px 3px 1px rgba(0, 0, 0, 0.15);\n",
              "      filter: drop-shadow(0px 1px 2px rgba(0, 0, 0, 0.3));\n",
              "      fill: #FFFFFF;\n",
              "    }\n",
              "  </style>\n",
              "\n",
              "      <script>\n",
              "        const buttonEl =\n",
              "          document.querySelector('#df-570fcb85-86dd-4188-a247-ac6968eb9f64 button.colab-df-convert');\n",
              "        buttonEl.style.display =\n",
              "          google.colab.kernel.accessAllowed ? 'block' : 'none';\n",
              "\n",
              "        async function convertToInteractive(key) {\n",
              "          const element = document.querySelector('#df-570fcb85-86dd-4188-a247-ac6968eb9f64');\n",
              "          const dataTable =\n",
              "            await google.colab.kernel.invokeFunction('convertToInteractive',\n",
              "                                                     [key], {});\n",
              "          if (!dataTable) return;\n",
              "\n",
              "          const docLinkHtml = 'Like what you see? Visit the ' +\n",
              "            '<a target=\"_blank\" href=https://colab.research.google.com/notebooks/data_table.ipynb>data table notebook</a>'\n",
              "            + ' to learn more about interactive tables.';\n",
              "          element.innerHTML = '';\n",
              "          dataTable['output_type'] = 'display_data';\n",
              "          await google.colab.output.renderOutput(dataTable, element);\n",
              "          const docLink = document.createElement('div');\n",
              "          docLink.innerHTML = docLinkHtml;\n",
              "          element.appendChild(docLink);\n",
              "        }\n",
              "      </script>\n",
              "    </div>\n",
              "  </div>\n",
              "  "
            ]
          },
          "metadata": {}
        }
      ]
    },
    {
      "cell_type": "code",
      "source": [
        "# Vamos verificar a distruibuição do overall e vote, de acordo com os verified.\n",
        "sample_clean.groupby('verified')['overall'].describe()"
      ],
      "metadata": {
        "colab": {
          "base_uri": "https://localhost:8080/",
          "height": 143
        },
        "id": "g7IKO8OY4JPT",
        "outputId": "d1e05835-4a14-4f10-a6cd-7eac2a87a96b"
      },
      "execution_count": 39,
      "outputs": [
        {
          "output_type": "execute_result",
          "data": {
            "text/plain": [
              "              count  mean   std   min   25%   50%   75%   max\n",
              "verified                                                     \n",
              "0.000     70242.000 3.621 1.632 1.000 2.000 4.000 5.000 5.000\n",
              "1.000    313859.000 4.208 1.314 1.000 4.000 5.000 5.000 5.000"
            ],
            "text/html": [
              "\n",
              "  <div id=\"df-91f37283-cad6-4cef-821e-0cffa2f58b40\">\n",
              "    <div class=\"colab-df-container\">\n",
              "      <div>\n",
              "<style scoped>\n",
              "    .dataframe tbody tr th:only-of-type {\n",
              "        vertical-align: middle;\n",
              "    }\n",
              "\n",
              "    .dataframe tbody tr th {\n",
              "        vertical-align: top;\n",
              "    }\n",
              "\n",
              "    .dataframe thead th {\n",
              "        text-align: right;\n",
              "    }\n",
              "</style>\n",
              "<table border=\"1\" class=\"dataframe\">\n",
              "  <thead>\n",
              "    <tr style=\"text-align: right;\">\n",
              "      <th></th>\n",
              "      <th>count</th>\n",
              "      <th>mean</th>\n",
              "      <th>std</th>\n",
              "      <th>min</th>\n",
              "      <th>25%</th>\n",
              "      <th>50%</th>\n",
              "      <th>75%</th>\n",
              "      <th>max</th>\n",
              "    </tr>\n",
              "    <tr>\n",
              "      <th>verified</th>\n",
              "      <th></th>\n",
              "      <th></th>\n",
              "      <th></th>\n",
              "      <th></th>\n",
              "      <th></th>\n",
              "      <th></th>\n",
              "      <th></th>\n",
              "      <th></th>\n",
              "    </tr>\n",
              "  </thead>\n",
              "  <tbody>\n",
              "    <tr>\n",
              "      <th>0.000</th>\n",
              "      <td>70242.000</td>\n",
              "      <td>3.621</td>\n",
              "      <td>1.632</td>\n",
              "      <td>1.000</td>\n",
              "      <td>2.000</td>\n",
              "      <td>4.000</td>\n",
              "      <td>5.000</td>\n",
              "      <td>5.000</td>\n",
              "    </tr>\n",
              "    <tr>\n",
              "      <th>1.000</th>\n",
              "      <td>313859.000</td>\n",
              "      <td>4.208</td>\n",
              "      <td>1.314</td>\n",
              "      <td>1.000</td>\n",
              "      <td>4.000</td>\n",
              "      <td>5.000</td>\n",
              "      <td>5.000</td>\n",
              "      <td>5.000</td>\n",
              "    </tr>\n",
              "  </tbody>\n",
              "</table>\n",
              "</div>\n",
              "      <button class=\"colab-df-convert\" onclick=\"convertToInteractive('df-91f37283-cad6-4cef-821e-0cffa2f58b40')\"\n",
              "              title=\"Convert this dataframe to an interactive table.\"\n",
              "              style=\"display:none;\">\n",
              "        \n",
              "  <svg xmlns=\"http://www.w3.org/2000/svg\" height=\"24px\"viewBox=\"0 0 24 24\"\n",
              "       width=\"24px\">\n",
              "    <path d=\"M0 0h24v24H0V0z\" fill=\"none\"/>\n",
              "    <path d=\"M18.56 5.44l.94 2.06.94-2.06 2.06-.94-2.06-.94-.94-2.06-.94 2.06-2.06.94zm-11 1L8.5 8.5l.94-2.06 2.06-.94-2.06-.94L8.5 2.5l-.94 2.06-2.06.94zm10 10l.94 2.06.94-2.06 2.06-.94-2.06-.94-.94-2.06-.94 2.06-2.06.94z\"/><path d=\"M17.41 7.96l-1.37-1.37c-.4-.4-.92-.59-1.43-.59-.52 0-1.04.2-1.43.59L10.3 9.45l-7.72 7.72c-.78.78-.78 2.05 0 2.83L4 21.41c.39.39.9.59 1.41.59.51 0 1.02-.2 1.41-.59l7.78-7.78 2.81-2.81c.8-.78.8-2.07 0-2.86zM5.41 20L4 18.59l7.72-7.72 1.47 1.35L5.41 20z\"/>\n",
              "  </svg>\n",
              "      </button>\n",
              "      \n",
              "  <style>\n",
              "    .colab-df-container {\n",
              "      display:flex;\n",
              "      flex-wrap:wrap;\n",
              "      gap: 12px;\n",
              "    }\n",
              "\n",
              "    .colab-df-convert {\n",
              "      background-color: #E8F0FE;\n",
              "      border: none;\n",
              "      border-radius: 50%;\n",
              "      cursor: pointer;\n",
              "      display: none;\n",
              "      fill: #1967D2;\n",
              "      height: 32px;\n",
              "      padding: 0 0 0 0;\n",
              "      width: 32px;\n",
              "    }\n",
              "\n",
              "    .colab-df-convert:hover {\n",
              "      background-color: #E2EBFA;\n",
              "      box-shadow: 0px 1px 2px rgba(60, 64, 67, 0.3), 0px 1px 3px 1px rgba(60, 64, 67, 0.15);\n",
              "      fill: #174EA6;\n",
              "    }\n",
              "\n",
              "    [theme=dark] .colab-df-convert {\n",
              "      background-color: #3B4455;\n",
              "      fill: #D2E3FC;\n",
              "    }\n",
              "\n",
              "    [theme=dark] .colab-df-convert:hover {\n",
              "      background-color: #434B5C;\n",
              "      box-shadow: 0px 1px 3px 1px rgba(0, 0, 0, 0.15);\n",
              "      filter: drop-shadow(0px 1px 2px rgba(0, 0, 0, 0.3));\n",
              "      fill: #FFFFFF;\n",
              "    }\n",
              "  </style>\n",
              "\n",
              "      <script>\n",
              "        const buttonEl =\n",
              "          document.querySelector('#df-91f37283-cad6-4cef-821e-0cffa2f58b40 button.colab-df-convert');\n",
              "        buttonEl.style.display =\n",
              "          google.colab.kernel.accessAllowed ? 'block' : 'none';\n",
              "\n",
              "        async function convertToInteractive(key) {\n",
              "          const element = document.querySelector('#df-91f37283-cad6-4cef-821e-0cffa2f58b40');\n",
              "          const dataTable =\n",
              "            await google.colab.kernel.invokeFunction('convertToInteractive',\n",
              "                                                     [key], {});\n",
              "          if (!dataTable) return;\n",
              "\n",
              "          const docLinkHtml = 'Like what you see? Visit the ' +\n",
              "            '<a target=\"_blank\" href=https://colab.research.google.com/notebooks/data_table.ipynb>data table notebook</a>'\n",
              "            + ' to learn more about interactive tables.';\n",
              "          element.innerHTML = '';\n",
              "          dataTable['output_type'] = 'display_data';\n",
              "          await google.colab.output.renderOutput(dataTable, element);\n",
              "          const docLink = document.createElement('div');\n",
              "          docLink.innerHTML = docLinkHtml;\n",
              "          element.appendChild(docLink);\n",
              "        }\n",
              "      </script>\n",
              "    </div>\n",
              "  </div>\n",
              "  "
            ]
          },
          "metadata": {},
          "execution_count": 39
        }
      ]
    },
    {
      "cell_type": "code",
      "source": [
        "# Não iremos usar o vote como atributo, dropar\n",
        "sample_clean.groupby('verified')['vote'].describe()"
      ],
      "metadata": {
        "colab": {
          "base_uri": "https://localhost:8080/",
          "height": 143
        },
        "id": "_84-d4ci8pOR",
        "outputId": "ea15c37d-0275-442c-ab48-4e35eb65ce5a"
      },
      "execution_count": 40,
      "outputs": [
        {
          "output_type": "execute_result",
          "data": {
            "text/plain": [
              "              count  mean    std   min   25%   50%   75%     max\n",
              "verified                                                        \n",
              "0.000     70242.000 4.099 21.828 0.000 0.000 0.000 3.000 855.000\n",
              "1.000    313859.000 0.626  7.657 0.000 0.000 0.000 0.000 900.000"
            ],
            "text/html": [
              "\n",
              "  <div id=\"df-9a00e3d7-ecc5-4386-aa91-e172ab510479\">\n",
              "    <div class=\"colab-df-container\">\n",
              "      <div>\n",
              "<style scoped>\n",
              "    .dataframe tbody tr th:only-of-type {\n",
              "        vertical-align: middle;\n",
              "    }\n",
              "\n",
              "    .dataframe tbody tr th {\n",
              "        vertical-align: top;\n",
              "    }\n",
              "\n",
              "    .dataframe thead th {\n",
              "        text-align: right;\n",
              "    }\n",
              "</style>\n",
              "<table border=\"1\" class=\"dataframe\">\n",
              "  <thead>\n",
              "    <tr style=\"text-align: right;\">\n",
              "      <th></th>\n",
              "      <th>count</th>\n",
              "      <th>mean</th>\n",
              "      <th>std</th>\n",
              "      <th>min</th>\n",
              "      <th>25%</th>\n",
              "      <th>50%</th>\n",
              "      <th>75%</th>\n",
              "      <th>max</th>\n",
              "    </tr>\n",
              "    <tr>\n",
              "      <th>verified</th>\n",
              "      <th></th>\n",
              "      <th></th>\n",
              "      <th></th>\n",
              "      <th></th>\n",
              "      <th></th>\n",
              "      <th></th>\n",
              "      <th></th>\n",
              "      <th></th>\n",
              "    </tr>\n",
              "  </thead>\n",
              "  <tbody>\n",
              "    <tr>\n",
              "      <th>0.000</th>\n",
              "      <td>70242.000</td>\n",
              "      <td>4.099</td>\n",
              "      <td>21.828</td>\n",
              "      <td>0.000</td>\n",
              "      <td>0.000</td>\n",
              "      <td>0.000</td>\n",
              "      <td>3.000</td>\n",
              "      <td>855.000</td>\n",
              "    </tr>\n",
              "    <tr>\n",
              "      <th>1.000</th>\n",
              "      <td>313859.000</td>\n",
              "      <td>0.626</td>\n",
              "      <td>7.657</td>\n",
              "      <td>0.000</td>\n",
              "      <td>0.000</td>\n",
              "      <td>0.000</td>\n",
              "      <td>0.000</td>\n",
              "      <td>900.000</td>\n",
              "    </tr>\n",
              "  </tbody>\n",
              "</table>\n",
              "</div>\n",
              "      <button class=\"colab-df-convert\" onclick=\"convertToInteractive('df-9a00e3d7-ecc5-4386-aa91-e172ab510479')\"\n",
              "              title=\"Convert this dataframe to an interactive table.\"\n",
              "              style=\"display:none;\">\n",
              "        \n",
              "  <svg xmlns=\"http://www.w3.org/2000/svg\" height=\"24px\"viewBox=\"0 0 24 24\"\n",
              "       width=\"24px\">\n",
              "    <path d=\"M0 0h24v24H0V0z\" fill=\"none\"/>\n",
              "    <path d=\"M18.56 5.44l.94 2.06.94-2.06 2.06-.94-2.06-.94-.94-2.06-.94 2.06-2.06.94zm-11 1L8.5 8.5l.94-2.06 2.06-.94-2.06-.94L8.5 2.5l-.94 2.06-2.06.94zm10 10l.94 2.06.94-2.06 2.06-.94-2.06-.94-.94-2.06-.94 2.06-2.06.94z\"/><path d=\"M17.41 7.96l-1.37-1.37c-.4-.4-.92-.59-1.43-.59-.52 0-1.04.2-1.43.59L10.3 9.45l-7.72 7.72c-.78.78-.78 2.05 0 2.83L4 21.41c.39.39.9.59 1.41.59.51 0 1.02-.2 1.41-.59l7.78-7.78 2.81-2.81c.8-.78.8-2.07 0-2.86zM5.41 20L4 18.59l7.72-7.72 1.47 1.35L5.41 20z\"/>\n",
              "  </svg>\n",
              "      </button>\n",
              "      \n",
              "  <style>\n",
              "    .colab-df-container {\n",
              "      display:flex;\n",
              "      flex-wrap:wrap;\n",
              "      gap: 12px;\n",
              "    }\n",
              "\n",
              "    .colab-df-convert {\n",
              "      background-color: #E8F0FE;\n",
              "      border: none;\n",
              "      border-radius: 50%;\n",
              "      cursor: pointer;\n",
              "      display: none;\n",
              "      fill: #1967D2;\n",
              "      height: 32px;\n",
              "      padding: 0 0 0 0;\n",
              "      width: 32px;\n",
              "    }\n",
              "\n",
              "    .colab-df-convert:hover {\n",
              "      background-color: #E2EBFA;\n",
              "      box-shadow: 0px 1px 2px rgba(60, 64, 67, 0.3), 0px 1px 3px 1px rgba(60, 64, 67, 0.15);\n",
              "      fill: #174EA6;\n",
              "    }\n",
              "\n",
              "    [theme=dark] .colab-df-convert {\n",
              "      background-color: #3B4455;\n",
              "      fill: #D2E3FC;\n",
              "    }\n",
              "\n",
              "    [theme=dark] .colab-df-convert:hover {\n",
              "      background-color: #434B5C;\n",
              "      box-shadow: 0px 1px 3px 1px rgba(0, 0, 0, 0.15);\n",
              "      filter: drop-shadow(0px 1px 2px rgba(0, 0, 0, 0.3));\n",
              "      fill: #FFFFFF;\n",
              "    }\n",
              "  </style>\n",
              "\n",
              "      <script>\n",
              "        const buttonEl =\n",
              "          document.querySelector('#df-9a00e3d7-ecc5-4386-aa91-e172ab510479 button.colab-df-convert');\n",
              "        buttonEl.style.display =\n",
              "          google.colab.kernel.accessAllowed ? 'block' : 'none';\n",
              "\n",
              "        async function convertToInteractive(key) {\n",
              "          const element = document.querySelector('#df-9a00e3d7-ecc5-4386-aa91-e172ab510479');\n",
              "          const dataTable =\n",
              "            await google.colab.kernel.invokeFunction('convertToInteractive',\n",
              "                                                     [key], {});\n",
              "          if (!dataTable) return;\n",
              "\n",
              "          const docLinkHtml = 'Like what you see? Visit the ' +\n",
              "            '<a target=\"_blank\" href=https://colab.research.google.com/notebooks/data_table.ipynb>data table notebook</a>'\n",
              "            + ' to learn more about interactive tables.';\n",
              "          element.innerHTML = '';\n",
              "          dataTable['output_type'] = 'display_data';\n",
              "          await google.colab.output.renderOutput(dataTable, element);\n",
              "          const docLink = document.createElement('div');\n",
              "          docLink.innerHTML = docLinkHtml;\n",
              "          element.appendChild(docLink);\n",
              "        }\n",
              "      </script>\n",
              "    </div>\n",
              "  </div>\n",
              "  "
            ]
          },
          "metadata": {},
          "execution_count": 40
        }
      ]
    },
    {
      "cell_type": "code",
      "source": [
        "sample_clean.drop(['vote'], axis=1, inplace=True)"
      ],
      "metadata": {
        "id": "gPyzbXZX82kw"
      },
      "execution_count": 14,
      "outputs": []
    },
    {
      "cell_type": "code",
      "source": [
        "sample_clean.to_csv('Video_games_sampled_clean.csv', index=False)"
      ],
      "metadata": {
        "id": "Tj8LfaaqMccO"
      },
      "execution_count": 69,
      "outputs": []
    },
    {
      "cell_type": "markdown",
      "source": [
        "## Classificação"
      ],
      "metadata": {
        "id": "R7g8UerzI942"
      }
    },
    {
      "cell_type": "code",
      "source": [
        "from sklearn.naive_bayes import MultinomialNB\n",
        "from sklearn.feature_extraction.text import TfidfTransformer\n",
        "from sklearn.feature_extraction.text import TfidfVectorizer\n",
        "from sklearn.feature_extraction.text import CountVectorizer\n",
        "from sklearn.model_selection import train_test_split\n",
        "from sklearn.preprocessing import StandardScaler\n",
        "from sklearn.compose import ColumnTransformer\n",
        "from sklearn.pipeline import Pipeline\n",
        "from sklearn.decomposition import TruncatedSVD"
      ],
      "metadata": {
        "id": "c5cvcwTV7S-K"
      },
      "execution_count": 15,
      "outputs": []
    },
    {
      "cell_type": "code",
      "source": [
        "X = sample_clean.drop(['verified'], axis=1)\n",
        "y = sample_clean['verified']"
      ],
      "metadata": {
        "id": "Y089X2J98Guf"
      },
      "execution_count": 16,
      "outputs": []
    },
    {
      "cell_type": "code",
      "source": [
        "X_train, X_test, y_train, y_test = train_test_split(X, y, test_size=0.2,\n",
        "                                                    shuffle=True, random_state=42)"
      ],
      "metadata": {
        "id": "atSQ7oqc765K"
      },
      "execution_count": 17,
      "outputs": []
    },
    {
      "cell_type": "markdown",
      "source": [
        "## Passo a Passo"
      ],
      "metadata": {
        "id": "x87hRifKEbKf"
      }
    },
    {
      "cell_type": "code",
      "source": [
        "#Vetorizar Summary\n",
        "vectorizer = TfidfVectorizer(stop_words='english', strip_accents='ascii', max_features=5000)\n",
        "smy_encoded_texts_train = vectorizer.fit_transform(X_train['summary'])"
      ],
      "metadata": {
        "id": "oMRN2w43EVmw"
      },
      "execution_count": 18,
      "outputs": []
    },
    {
      "cell_type": "code",
      "source": [
        "smy_encoded_texts_train.shape"
      ],
      "metadata": {
        "colab": {
          "base_uri": "https://localhost:8080/"
        },
        "id": "1YpHHqJ8EzoN",
        "outputId": "c3e6a779-6a45-4c4d-f3ae-7ec2f1be49ab"
      },
      "execution_count": 19,
      "outputs": [
        {
          "output_type": "execute_result",
          "data": {
            "text/plain": [
              "(307280, 5000)"
            ]
          },
          "metadata": {},
          "execution_count": 19
        }
      ]
    },
    {
      "cell_type": "code",
      "source": [
        "svd = TruncatedSVD(n_components=100)\n",
        "smy_encoded_feature_train = svd.fit_transform(smy_encoded_texts_train)"
      ],
      "metadata": {
        "id": "qBMAQxrKEuga"
      },
      "execution_count": 20,
      "outputs": []
    },
    {
      "cell_type": "code",
      "source": [
        "smy_encoded_feature_train.shape"
      ],
      "metadata": {
        "colab": {
          "base_uri": "https://localhost:8080/"
        },
        "id": "Zpg-fSlWGSzd",
        "outputId": "9a6f4dbb-0c58-47e4-f7fe-4d687829aa83"
      },
      "execution_count": 21,
      "outputs": [
        {
          "output_type": "execute_result",
          "data": {
            "text/plain": [
              "(307280, 100)"
            ]
          },
          "metadata": {},
          "execution_count": 21
        }
      ]
    },
    {
      "cell_type": "code",
      "source": [
        "# Vetorizar reviewText\n",
        "vectorizer_txt = TfidfVectorizer(stop_words='english', strip_accents='ascii', max_features=5000)\n",
        "txt_encoded_texts_train = vectorizer_txt.fit_transform(X_train['reviewText'])\n",
        "txt_encoded_texts_train.shape"
      ],
      "metadata": {
        "colab": {
          "base_uri": "https://localhost:8080/"
        },
        "id": "XAWd7Vx0E5-K",
        "outputId": "21edcbde-12ee-4778-926b-840fb9c2310f"
      },
      "execution_count": 22,
      "outputs": [
        {
          "output_type": "execute_result",
          "data": {
            "text/plain": [
              "(307280, 5000)"
            ]
          },
          "metadata": {},
          "execution_count": 22
        }
      ]
    },
    {
      "cell_type": "code",
      "source": [
        "svd_txt = TruncatedSVD(n_components=100)\n",
        "txt_encoded_feature_train = svd_txt.fit_transform(txt_encoded_texts_train)\n",
        "txt_encoded_feature_train.shape"
      ],
      "metadata": {
        "colab": {
          "base_uri": "https://localhost:8080/"
        },
        "id": "Opl2TXKfFcFx",
        "outputId": "f40055ba-2f2d-4e9c-ac28-a57c13c729be"
      },
      "execution_count": 23,
      "outputs": [
        {
          "output_type": "execute_result",
          "data": {
            "text/plain": [
              "(307280, 100)"
            ]
          },
          "metadata": {},
          "execution_count": 23
        }
      ]
    },
    {
      "cell_type": "code",
      "source": [
        "# Normalização do overall\n",
        "scaler = StandardScaler()\n",
        "X_train_norm = scaler.fit_transform(X_train['overall'].values.reshape(-1,1))\n",
        "X_train_norm.shape"
      ],
      "metadata": {
        "colab": {
          "base_uri": "https://localhost:8080/"
        },
        "id": "PoUeIQwYGLfO",
        "outputId": "6513141d-9462-4c61-cbdc-244646ab20ca"
      },
      "execution_count": 27,
      "outputs": [
        {
          "output_type": "execute_result",
          "data": {
            "text/plain": [
              "(307280, 1)"
            ]
          },
          "metadata": {},
          "execution_count": 27
        }
      ]
    },
    {
      "cell_type": "code",
      "source": [
        "# Concatenação das features\n",
        "X_train_concat = np.concatenate([X_train_norm, txt_encoded_feature_train, smy_encoded_feature_train],axis=1)"
      ],
      "metadata": {
        "id": "gxHfyf7aGdJC"
      },
      "execution_count": 29,
      "outputs": []
    },
    {
      "cell_type": "code",
      "source": [
        "X_train_concat.shape"
      ],
      "metadata": {
        "colab": {
          "base_uri": "https://localhost:8080/"
        },
        "id": "_JdnCqQqG8wy",
        "outputId": "3f239528-e792-49a9-9ec5-9b47082bd40a"
      },
      "execution_count": 32,
      "outputs": [
        {
          "output_type": "execute_result",
          "data": {
            "text/plain": [
              "(307280, 201)"
            ]
          },
          "metadata": {},
          "execution_count": 32
        }
      ]
    },
    {
      "cell_type": "code",
      "source": [
        "# Treinar modelo\n",
        "from sklearn.linear_model import LogisticRegression\n",
        "clf = LogisticRegression(max_iter=300)"
      ],
      "metadata": {
        "id": "XC7DUaZWHYpT"
      },
      "execution_count": 34,
      "outputs": []
    },
    {
      "cell_type": "code",
      "source": [
        "clf.fit(X_train_concat, y_train)"
      ],
      "metadata": {
        "colab": {
          "base_uri": "https://localhost:8080/"
        },
        "id": "UPQr1n8LHhZk",
        "outputId": "122ba978-4b75-491e-8566-3475205e8d41"
      },
      "execution_count": 35,
      "outputs": [
        {
          "output_type": "execute_result",
          "data": {
            "text/plain": [
              "LogisticRegression(max_iter=300)"
            ]
          },
          "metadata": {},
          "execution_count": 35
        }
      ]
    },
    {
      "cell_type": "code",
      "source": [
        "#Score no dataset de treino\n",
        "clf.score(X_train_concat,y_train)"
      ],
      "metadata": {
        "colab": {
          "base_uri": "https://localhost:8080/"
        },
        "id": "KGHYUhaEHv-4",
        "outputId": "add10ee7-19b2-4221-f3c0-0b1f25bdd839"
      },
      "execution_count": 36,
      "outputs": [
        {
          "output_type": "execute_result",
          "data": {
            "text/plain": [
              "0.8421114293152825"
            ]
          },
          "metadata": {},
          "execution_count": 36
        }
      ]
    },
    {
      "cell_type": "code",
      "source": [
        "# Dataset de teste.\n",
        "# Summary\n",
        "smy_encoded_texts_test = vectorizer.transform(X_test['summary'])\n",
        "smy_encoded_feature_test = svd.transform(smy_encoded_texts_test)\n",
        "\n",
        "# reviewText\n",
        "txt_encoded_texts_test = vectorizer_txt.transform(X_test['reviewText'])\n",
        "txt_encoded_feature_test = svd_txt.transform(txt_encoded_texts_test)\n",
        "\n",
        "#Overall\n",
        "X_test_norm = scaler.transform(X_test['overall'].values.reshape(-1,1))\n",
        "\n",
        "#Concat\n",
        "X_test_concat = np.concatenate([X_test_norm, txt_encoded_feature_test, smy_encoded_feature_test],axis=1)"
      ],
      "metadata": {
        "id": "IgNM6wORH5wL"
      },
      "execution_count": 37,
      "outputs": []
    },
    {
      "cell_type": "code",
      "source": [
        "# Score no dataset de teste\n",
        "clf.score(X_test_concat, y_test)"
      ],
      "metadata": {
        "colab": {
          "base_uri": "https://localhost:8080/"
        },
        "id": "apZ2SX5TIZ68",
        "outputId": "eac82e94-5c78-46e5-d3e0-26c084ea062e"
      },
      "execution_count": 38,
      "outputs": [
        {
          "output_type": "execute_result",
          "data": {
            "text/plain": [
              "0.8430377110425534"
            ]
          },
          "metadata": {},
          "execution_count": 38
        }
      ]
    },
    {
      "cell_type": "markdown",
      "source": [
        "## Classificação das respostas com Valores Ausentes"
      ],
      "metadata": {
        "id": "eb6bvChBJIzS"
      }
    },
    {
      "cell_type": "code",
      "source": [
        "unsee_path = '/content/Video_games_sampled_to_predict.csv'"
      ],
      "metadata": {
        "id": "Ixf7D4TeJSQn"
      },
      "execution_count": 62,
      "outputs": []
    },
    {
      "cell_type": "code",
      "source": [
        "unsee_df = pd.read_csv(unsee_path)"
      ],
      "metadata": {
        "id": "COrEOMvtJYzN"
      },
      "execution_count": 67,
      "outputs": []
    },
    {
      "cell_type": "code",
      "source": [
        "unsee_df.dropna(inplace=True)"
      ],
      "metadata": {
        "id": "Pq9t2jSMLqCY"
      },
      "execution_count": 65,
      "outputs": []
    },
    {
      "cell_type": "code",
      "source": [
        "unsee_df_clean = unsee_df[['overall', 'reviewText', 'summary']].copy()"
      ],
      "metadata": {
        "id": "f4EUoo1CLghS"
      },
      "execution_count": 59,
      "outputs": []
    },
    {
      "cell_type": "code",
      "source": [
        "# Dataset de teste.\n",
        "# Summary\n",
        "smy_unsee = vectorizer.transform(unsee_df_clean['summary'])\n",
        "smy_unsee = svd.transform(smy_unsee)\n",
        "\n",
        "# reviewText\n",
        "txt_unsee = vectorizer_txt.transform(unsee_df_clean['reviewText'])\n",
        "txt_unsee = svd_txt.transform(txt_unsee)\n",
        "\n",
        "#Overall\n",
        "ovr_unsee = scaler.transform(unsee_df_clean['overall'].values.reshape(-1,1))\n",
        "\n",
        "#Concat\n",
        "unsee_concat = np.concatenate([ovr_unsee, txt_unsee, smy_unsee],axis=1)"
      ],
      "metadata": {
        "id": "kSVHGSqIKqgz"
      },
      "execution_count": 50,
      "outputs": []
    },
    {
      "cell_type": "code",
      "source": [
        "predicts = clf.predict(unsee_concat)"
      ],
      "metadata": {
        "id": "9sOHRE7YJehR"
      },
      "execution_count": 51,
      "outputs": []
    },
    {
      "cell_type": "code",
      "source": [
        "len(predicts)"
      ],
      "metadata": {
        "colab": {
          "base_uri": "https://localhost:8080/"
        },
        "id": "wQR7x1bwLEUw",
        "outputId": "1de8438e-e6dc-4a39-f85c-7b60f87fcc81"
      },
      "execution_count": 53,
      "outputs": [
        {
          "output_type": "execute_result",
          "data": {
            "text/plain": [
              "68938"
            ]
          },
          "metadata": {},
          "execution_count": 53
        }
      ]
    },
    {
      "cell_type": "code",
      "source": [
        "predicts.sum()"
      ],
      "metadata": {
        "colab": {
          "base_uri": "https://localhost:8080/"
        },
        "id": "Kue8cMNmLHhJ",
        "outputId": "ced8e678-6e44-405d-9721-b56406fb19f0"
      },
      "execution_count": 54,
      "outputs": [
        {
          "output_type": "execute_result",
          "data": {
            "text/plain": [
              "63523.0"
            ]
          },
          "metadata": {},
          "execution_count": 54
        }
      ]
    },
    {
      "cell_type": "markdown",
      "source": [
        "## Criação do dataset para recomendação"
      ],
      "metadata": {
        "id": "8c0RbEPkLPCh"
      }
    },
    {
      "cell_type": "code",
      "source": [
        "sample_games_df.columns"
      ],
      "metadata": {
        "colab": {
          "base_uri": "https://localhost:8080/"
        },
        "id": "f7f5EQ6MRbks",
        "outputId": "be9b7fe7-a0d3-4adb-dff9-2ffc65acf475"
      },
      "execution_count": 86,
      "outputs": [
        {
          "output_type": "execute_result",
          "data": {
            "text/plain": [
              "Index(['overall', 'reviewTime', 'reviewerID', 'asin', 'style', 'reviewerName',\n",
              "       'reviewText', 'summary', 'unixReviewTime', 'verified', 'vote', 'image'],\n",
              "      dtype='object')"
            ]
          },
          "metadata": {},
          "execution_count": 86
        }
      ]
    },
    {
      "cell_type": "code",
      "source": [
        "# Dataset Sample\n",
        "clean_sample_path = '/content/Video_games_sampled_clean.csv'\n",
        "unsee_sample_path = '/content/Video_games_sampled_to_predict.csv'"
      ],
      "metadata": {
        "id": "1Tof30DALzuq"
      },
      "execution_count": 87,
      "outputs": []
    },
    {
      "cell_type": "code",
      "source": [
        "unsee_df_clean = pd.read_csv(unsee_sample_path, usecols=['asin', 'overall', 'reviewText', 'summary'])\n",
        "unsee_df_clean.dropna(inplace=True)"
      ],
      "metadata": {
        "id": "UWo32CRaMz5D"
      },
      "execution_count": 88,
      "outputs": []
    },
    {
      "cell_type": "code",
      "source": [
        "unsee_df_clean['verified'] = predicts"
      ],
      "metadata": {
        "id": "4jlbxk9cNhtS"
      },
      "execution_count": 89,
      "outputs": []
    },
    {
      "cell_type": "code",
      "source": [
        "clean_sample_df = pd.read_csv(clean_sample_path, usecols=['overall', 'reviewText', 'summary', 'verified'])"
      ],
      "metadata": {
        "colab": {
          "base_uri": "https://localhost:8080/",
          "height": 323
        },
        "id": "5Fjix3wZLTyY",
        "outputId": "fa433bc2-51c5-4536-9abe-27dc602c56f8"
      },
      "execution_count": 90,
      "outputs": [
        {
          "output_type": "error",
          "ename": "ValueError",
          "evalue": "ignored",
          "traceback": [
            "\u001b[0;31m---------------------------------------------------------------------------\u001b[0m",
            "\u001b[0;31mValueError\u001b[0m                                Traceback (most recent call last)",
            "\u001b[0;32m<ipython-input-90-25dea79057be>\u001b[0m in \u001b[0;36m<module>\u001b[0;34m()\u001b[0m\n\u001b[0;32m----> 1\u001b[0;31m \u001b[0mclean_sample_df\u001b[0m \u001b[0;34m=\u001b[0m \u001b[0mpd\u001b[0m\u001b[0;34m.\u001b[0m\u001b[0mread_csv\u001b[0m\u001b[0;34m(\u001b[0m\u001b[0mclean_sample_path\u001b[0m\u001b[0;34m,\u001b[0m \u001b[0musecols\u001b[0m\u001b[0;34m=\u001b[0m\u001b[0;34m[\u001b[0m\u001b[0;34m'asin'\u001b[0m\u001b[0;34m,\u001b[0m\u001b[0;34m'overall'\u001b[0m\u001b[0;34m,\u001b[0m \u001b[0;34m'reviewText'\u001b[0m\u001b[0;34m,\u001b[0m \u001b[0;34m'summary'\u001b[0m\u001b[0;34m,\u001b[0m \u001b[0;34m'verified'\u001b[0m\u001b[0;34m]\u001b[0m\u001b[0;34m)\u001b[0m\u001b[0;34m\u001b[0m\u001b[0;34m\u001b[0m\u001b[0m\n\u001b[0m",
            "\u001b[0;32m/usr/local/lib/python3.7/dist-packages/pandas/util/_decorators.py\u001b[0m in \u001b[0;36mwrapper\u001b[0;34m(*args, **kwargs)\u001b[0m\n\u001b[1;32m    309\u001b[0m                     \u001b[0mstacklevel\u001b[0m\u001b[0;34m=\u001b[0m\u001b[0mstacklevel\u001b[0m\u001b[0;34m,\u001b[0m\u001b[0;34m\u001b[0m\u001b[0;34m\u001b[0m\u001b[0m\n\u001b[1;32m    310\u001b[0m                 )\n\u001b[0;32m--> 311\u001b[0;31m             \u001b[0;32mreturn\u001b[0m \u001b[0mfunc\u001b[0m\u001b[0;34m(\u001b[0m\u001b[0;34m*\u001b[0m\u001b[0margs\u001b[0m\u001b[0;34m,\u001b[0m \u001b[0;34m**\u001b[0m\u001b[0mkwargs\u001b[0m\u001b[0;34m)\u001b[0m\u001b[0;34m\u001b[0m\u001b[0;34m\u001b[0m\u001b[0m\n\u001b[0m\u001b[1;32m    312\u001b[0m \u001b[0;34m\u001b[0m\u001b[0m\n\u001b[1;32m    313\u001b[0m         \u001b[0;32mreturn\u001b[0m \u001b[0mwrapper\u001b[0m\u001b[0;34m\u001b[0m\u001b[0;34m\u001b[0m\u001b[0m\n",
            "\u001b[0;32m/usr/local/lib/python3.7/dist-packages/pandas/io/parsers/readers.py\u001b[0m in \u001b[0;36mread_csv\u001b[0;34m(filepath_or_buffer, sep, delimiter, header, names, index_col, usecols, squeeze, prefix, mangle_dupe_cols, dtype, engine, converters, true_values, false_values, skipinitialspace, skiprows, skipfooter, nrows, na_values, keep_default_na, na_filter, verbose, skip_blank_lines, parse_dates, infer_datetime_format, keep_date_col, date_parser, dayfirst, cache_dates, iterator, chunksize, compression, thousands, decimal, lineterminator, quotechar, quoting, doublequote, escapechar, comment, encoding, encoding_errors, dialect, error_bad_lines, warn_bad_lines, on_bad_lines, delim_whitespace, low_memory, memory_map, float_precision, storage_options)\u001b[0m\n\u001b[1;32m    584\u001b[0m     \u001b[0mkwds\u001b[0m\u001b[0;34m.\u001b[0m\u001b[0mupdate\u001b[0m\u001b[0;34m(\u001b[0m\u001b[0mkwds_defaults\u001b[0m\u001b[0;34m)\u001b[0m\u001b[0;34m\u001b[0m\u001b[0;34m\u001b[0m\u001b[0m\n\u001b[1;32m    585\u001b[0m \u001b[0;34m\u001b[0m\u001b[0m\n\u001b[0;32m--> 586\u001b[0;31m     \u001b[0;32mreturn\u001b[0m \u001b[0m_read\u001b[0m\u001b[0;34m(\u001b[0m\u001b[0mfilepath_or_buffer\u001b[0m\u001b[0;34m,\u001b[0m \u001b[0mkwds\u001b[0m\u001b[0;34m)\u001b[0m\u001b[0;34m\u001b[0m\u001b[0;34m\u001b[0m\u001b[0m\n\u001b[0m\u001b[1;32m    587\u001b[0m \u001b[0;34m\u001b[0m\u001b[0m\n\u001b[1;32m    588\u001b[0m \u001b[0;34m\u001b[0m\u001b[0m\n",
            "\u001b[0;32m/usr/local/lib/python3.7/dist-packages/pandas/io/parsers/readers.py\u001b[0m in \u001b[0;36m_read\u001b[0;34m(filepath_or_buffer, kwds)\u001b[0m\n\u001b[1;32m    480\u001b[0m \u001b[0;34m\u001b[0m\u001b[0m\n\u001b[1;32m    481\u001b[0m     \u001b[0;31m# Create the parser.\u001b[0m\u001b[0;34m\u001b[0m\u001b[0;34m\u001b[0m\u001b[0;34m\u001b[0m\u001b[0m\n\u001b[0;32m--> 482\u001b[0;31m     \u001b[0mparser\u001b[0m \u001b[0;34m=\u001b[0m \u001b[0mTextFileReader\u001b[0m\u001b[0;34m(\u001b[0m\u001b[0mfilepath_or_buffer\u001b[0m\u001b[0;34m,\u001b[0m \u001b[0;34m**\u001b[0m\u001b[0mkwds\u001b[0m\u001b[0;34m)\u001b[0m\u001b[0;34m\u001b[0m\u001b[0;34m\u001b[0m\u001b[0m\n\u001b[0m\u001b[1;32m    483\u001b[0m \u001b[0;34m\u001b[0m\u001b[0m\n\u001b[1;32m    484\u001b[0m     \u001b[0;32mif\u001b[0m \u001b[0mchunksize\u001b[0m \u001b[0;32mor\u001b[0m \u001b[0miterator\u001b[0m\u001b[0;34m:\u001b[0m\u001b[0;34m\u001b[0m\u001b[0;34m\u001b[0m\u001b[0m\n",
            "\u001b[0;32m/usr/local/lib/python3.7/dist-packages/pandas/io/parsers/readers.py\u001b[0m in \u001b[0;36m__init__\u001b[0;34m(self, f, engine, **kwds)\u001b[0m\n\u001b[1;32m    809\u001b[0m             \u001b[0mself\u001b[0m\u001b[0;34m.\u001b[0m\u001b[0moptions\u001b[0m\u001b[0;34m[\u001b[0m\u001b[0;34m\"has_index_names\"\u001b[0m\u001b[0;34m]\u001b[0m \u001b[0;34m=\u001b[0m \u001b[0mkwds\u001b[0m\u001b[0;34m[\u001b[0m\u001b[0;34m\"has_index_names\"\u001b[0m\u001b[0;34m]\u001b[0m\u001b[0;34m\u001b[0m\u001b[0;34m\u001b[0m\u001b[0m\n\u001b[1;32m    810\u001b[0m \u001b[0;34m\u001b[0m\u001b[0m\n\u001b[0;32m--> 811\u001b[0;31m         \u001b[0mself\u001b[0m\u001b[0;34m.\u001b[0m\u001b[0m_engine\u001b[0m \u001b[0;34m=\u001b[0m \u001b[0mself\u001b[0m\u001b[0;34m.\u001b[0m\u001b[0m_make_engine\u001b[0m\u001b[0;34m(\u001b[0m\u001b[0mself\u001b[0m\u001b[0;34m.\u001b[0m\u001b[0mengine\u001b[0m\u001b[0;34m)\u001b[0m\u001b[0;34m\u001b[0m\u001b[0;34m\u001b[0m\u001b[0m\n\u001b[0m\u001b[1;32m    812\u001b[0m \u001b[0;34m\u001b[0m\u001b[0m\n\u001b[1;32m    813\u001b[0m     \u001b[0;32mdef\u001b[0m \u001b[0mclose\u001b[0m\u001b[0;34m(\u001b[0m\u001b[0mself\u001b[0m\u001b[0;34m)\u001b[0m\u001b[0;34m:\u001b[0m\u001b[0;34m\u001b[0m\u001b[0;34m\u001b[0m\u001b[0m\n",
            "\u001b[0;32m/usr/local/lib/python3.7/dist-packages/pandas/io/parsers/readers.py\u001b[0m in \u001b[0;36m_make_engine\u001b[0;34m(self, engine)\u001b[0m\n\u001b[1;32m   1038\u001b[0m             )\n\u001b[1;32m   1039\u001b[0m         \u001b[0;31m# error: Too many arguments for \"ParserBase\"\u001b[0m\u001b[0;34m\u001b[0m\u001b[0;34m\u001b[0m\u001b[0;34m\u001b[0m\u001b[0m\n\u001b[0;32m-> 1040\u001b[0;31m         \u001b[0;32mreturn\u001b[0m \u001b[0mmapping\u001b[0m\u001b[0;34m[\u001b[0m\u001b[0mengine\u001b[0m\u001b[0;34m]\u001b[0m\u001b[0;34m(\u001b[0m\u001b[0mself\u001b[0m\u001b[0;34m.\u001b[0m\u001b[0mf\u001b[0m\u001b[0;34m,\u001b[0m \u001b[0;34m**\u001b[0m\u001b[0mself\u001b[0m\u001b[0;34m.\u001b[0m\u001b[0moptions\u001b[0m\u001b[0;34m)\u001b[0m  \u001b[0;31m# type: ignore[call-arg]\u001b[0m\u001b[0;34m\u001b[0m\u001b[0;34m\u001b[0m\u001b[0m\n\u001b[0m\u001b[1;32m   1041\u001b[0m \u001b[0;34m\u001b[0m\u001b[0m\n\u001b[1;32m   1042\u001b[0m     \u001b[0;32mdef\u001b[0m \u001b[0m_failover_to_python\u001b[0m\u001b[0;34m(\u001b[0m\u001b[0mself\u001b[0m\u001b[0;34m)\u001b[0m\u001b[0;34m:\u001b[0m\u001b[0;34m\u001b[0m\u001b[0;34m\u001b[0m\u001b[0m\n",
            "\u001b[0;32m/usr/local/lib/python3.7/dist-packages/pandas/io/parsers/c_parser_wrapper.py\u001b[0m in \u001b[0;36m__init__\u001b[0;34m(self, src, **kwds)\u001b[0m\n\u001b[1;32m    133\u001b[0m                 \u001b[0mself\u001b[0m\u001b[0;34m.\u001b[0m\u001b[0morig_names\u001b[0m\u001b[0;34m\u001b[0m\u001b[0;34m\u001b[0m\u001b[0m\n\u001b[1;32m    134\u001b[0m             ):\n\u001b[0;32m--> 135\u001b[0;31m                 \u001b[0mself\u001b[0m\u001b[0;34m.\u001b[0m\u001b[0m_validate_usecols_names\u001b[0m\u001b[0;34m(\u001b[0m\u001b[0musecols\u001b[0m\u001b[0;34m,\u001b[0m \u001b[0mself\u001b[0m\u001b[0;34m.\u001b[0m\u001b[0morig_names\u001b[0m\u001b[0;34m)\u001b[0m\u001b[0;34m\u001b[0m\u001b[0;34m\u001b[0m\u001b[0m\n\u001b[0m\u001b[1;32m    136\u001b[0m \u001b[0;34m\u001b[0m\u001b[0m\n\u001b[1;32m    137\u001b[0m             \u001b[0;31m# error: Cannot determine type of 'names'\u001b[0m\u001b[0;34m\u001b[0m\u001b[0;34m\u001b[0m\u001b[0;34m\u001b[0m\u001b[0m\n",
            "\u001b[0;32m/usr/local/lib/python3.7/dist-packages/pandas/io/parsers/base_parser.py\u001b[0m in \u001b[0;36m_validate_usecols_names\u001b[0;34m(self, usecols, names)\u001b[0m\n\u001b[1;32m    865\u001b[0m         \u001b[0;32mif\u001b[0m \u001b[0mlen\u001b[0m\u001b[0;34m(\u001b[0m\u001b[0mmissing\u001b[0m\u001b[0;34m)\u001b[0m \u001b[0;34m>\u001b[0m \u001b[0;36m0\u001b[0m\u001b[0;34m:\u001b[0m\u001b[0;34m\u001b[0m\u001b[0;34m\u001b[0m\u001b[0m\n\u001b[1;32m    866\u001b[0m             raise ValueError(\n\u001b[0;32m--> 867\u001b[0;31m                 \u001b[0;34mf\"Usecols do not match columns, columns expected but not found: \"\u001b[0m\u001b[0;34m\u001b[0m\u001b[0;34m\u001b[0m\u001b[0m\n\u001b[0m\u001b[1;32m    868\u001b[0m                 \u001b[0;34mf\"{missing}\"\u001b[0m\u001b[0;34m\u001b[0m\u001b[0;34m\u001b[0m\u001b[0m\n\u001b[1;32m    869\u001b[0m             )\n",
            "\u001b[0;31mValueError\u001b[0m: Usecols do not match columns, columns expected but not found: ['asin']"
          ]
        }
      ]
    },
    {
      "cell_type": "code",
      "source": [
        "clean_sample_df.head()"
      ],
      "metadata": {
        "colab": {
          "base_uri": "https://localhost:8080/",
          "height": 206
        },
        "id": "sjCcf6g6NJ4L",
        "outputId": "73a820f5-a52d-486f-9e8e-6e8dbb55f8b5"
      },
      "execution_count": 73,
      "outputs": [
        {
          "output_type": "execute_result",
          "data": {
            "text/plain": [
              "   overall                                         reviewText  \\\n",
              "0        5  Received this in perfect condition. Great rese...   \n",
              "1        5  I had a hard time finding this game locally or...   \n",
              "2        5  This game is just as amazing as the first time...   \n",
              "3        5  I bought as a gift for my friend, she is so ex...   \n",
              "4        5     Looks good, some scratches on discs but plays.   \n",
              "\n",
              "                                             summary  verified  \n",
              "0  Received this in perfect condition. Great rese...     1.000  \n",
              "1               I am very pleased with this purchase     1.000  \n",
              "2                This is the best deal for this game     0.000  \n",
              "3                            Loved by lots of people     1.000  \n",
              "4                                         Five Stars     1.000  "
            ],
            "text/html": [
              "\n",
              "  <div id=\"df-0c626c53-1c8c-4ac9-8126-4dc534b7d8e0\">\n",
              "    <div class=\"colab-df-container\">\n",
              "      <div>\n",
              "<style scoped>\n",
              "    .dataframe tbody tr th:only-of-type {\n",
              "        vertical-align: middle;\n",
              "    }\n",
              "\n",
              "    .dataframe tbody tr th {\n",
              "        vertical-align: top;\n",
              "    }\n",
              "\n",
              "    .dataframe thead th {\n",
              "        text-align: right;\n",
              "    }\n",
              "</style>\n",
              "<table border=\"1\" class=\"dataframe\">\n",
              "  <thead>\n",
              "    <tr style=\"text-align: right;\">\n",
              "      <th></th>\n",
              "      <th>overall</th>\n",
              "      <th>reviewText</th>\n",
              "      <th>summary</th>\n",
              "      <th>verified</th>\n",
              "    </tr>\n",
              "  </thead>\n",
              "  <tbody>\n",
              "    <tr>\n",
              "      <th>0</th>\n",
              "      <td>5</td>\n",
              "      <td>Received this in perfect condition. Great rese...</td>\n",
              "      <td>Received this in perfect condition. Great rese...</td>\n",
              "      <td>1.000</td>\n",
              "    </tr>\n",
              "    <tr>\n",
              "      <th>1</th>\n",
              "      <td>5</td>\n",
              "      <td>I had a hard time finding this game locally or...</td>\n",
              "      <td>I am very pleased with this purchase</td>\n",
              "      <td>1.000</td>\n",
              "    </tr>\n",
              "    <tr>\n",
              "      <th>2</th>\n",
              "      <td>5</td>\n",
              "      <td>This game is just as amazing as the first time...</td>\n",
              "      <td>This is the best deal for this game</td>\n",
              "      <td>0.000</td>\n",
              "    </tr>\n",
              "    <tr>\n",
              "      <th>3</th>\n",
              "      <td>5</td>\n",
              "      <td>I bought as a gift for my friend, she is so ex...</td>\n",
              "      <td>Loved by lots of people</td>\n",
              "      <td>1.000</td>\n",
              "    </tr>\n",
              "    <tr>\n",
              "      <th>4</th>\n",
              "      <td>5</td>\n",
              "      <td>Looks good, some scratches on discs but plays.</td>\n",
              "      <td>Five Stars</td>\n",
              "      <td>1.000</td>\n",
              "    </tr>\n",
              "  </tbody>\n",
              "</table>\n",
              "</div>\n",
              "      <button class=\"colab-df-convert\" onclick=\"convertToInteractive('df-0c626c53-1c8c-4ac9-8126-4dc534b7d8e0')\"\n",
              "              title=\"Convert this dataframe to an interactive table.\"\n",
              "              style=\"display:none;\">\n",
              "        \n",
              "  <svg xmlns=\"http://www.w3.org/2000/svg\" height=\"24px\"viewBox=\"0 0 24 24\"\n",
              "       width=\"24px\">\n",
              "    <path d=\"M0 0h24v24H0V0z\" fill=\"none\"/>\n",
              "    <path d=\"M18.56 5.44l.94 2.06.94-2.06 2.06-.94-2.06-.94-.94-2.06-.94 2.06-2.06.94zm-11 1L8.5 8.5l.94-2.06 2.06-.94-2.06-.94L8.5 2.5l-.94 2.06-2.06.94zm10 10l.94 2.06.94-2.06 2.06-.94-2.06-.94-.94-2.06-.94 2.06-2.06.94z\"/><path d=\"M17.41 7.96l-1.37-1.37c-.4-.4-.92-.59-1.43-.59-.52 0-1.04.2-1.43.59L10.3 9.45l-7.72 7.72c-.78.78-.78 2.05 0 2.83L4 21.41c.39.39.9.59 1.41.59.51 0 1.02-.2 1.41-.59l7.78-7.78 2.81-2.81c.8-.78.8-2.07 0-2.86zM5.41 20L4 18.59l7.72-7.72 1.47 1.35L5.41 20z\"/>\n",
              "  </svg>\n",
              "      </button>\n",
              "      \n",
              "  <style>\n",
              "    .colab-df-container {\n",
              "      display:flex;\n",
              "      flex-wrap:wrap;\n",
              "      gap: 12px;\n",
              "    }\n",
              "\n",
              "    .colab-df-convert {\n",
              "      background-color: #E8F0FE;\n",
              "      border: none;\n",
              "      border-radius: 50%;\n",
              "      cursor: pointer;\n",
              "      display: none;\n",
              "      fill: #1967D2;\n",
              "      height: 32px;\n",
              "      padding: 0 0 0 0;\n",
              "      width: 32px;\n",
              "    }\n",
              "\n",
              "    .colab-df-convert:hover {\n",
              "      background-color: #E2EBFA;\n",
              "      box-shadow: 0px 1px 2px rgba(60, 64, 67, 0.3), 0px 1px 3px 1px rgba(60, 64, 67, 0.15);\n",
              "      fill: #174EA6;\n",
              "    }\n",
              "\n",
              "    [theme=dark] .colab-df-convert {\n",
              "      background-color: #3B4455;\n",
              "      fill: #D2E3FC;\n",
              "    }\n",
              "\n",
              "    [theme=dark] .colab-df-convert:hover {\n",
              "      background-color: #434B5C;\n",
              "      box-shadow: 0px 1px 3px 1px rgba(0, 0, 0, 0.15);\n",
              "      filter: drop-shadow(0px 1px 2px rgba(0, 0, 0, 0.3));\n",
              "      fill: #FFFFFF;\n",
              "    }\n",
              "  </style>\n",
              "\n",
              "      <script>\n",
              "        const buttonEl =\n",
              "          document.querySelector('#df-0c626c53-1c8c-4ac9-8126-4dc534b7d8e0 button.colab-df-convert');\n",
              "        buttonEl.style.display =\n",
              "          google.colab.kernel.accessAllowed ? 'block' : 'none';\n",
              "\n",
              "        async function convertToInteractive(key) {\n",
              "          const element = document.querySelector('#df-0c626c53-1c8c-4ac9-8126-4dc534b7d8e0');\n",
              "          const dataTable =\n",
              "            await google.colab.kernel.invokeFunction('convertToInteractive',\n",
              "                                                     [key], {});\n",
              "          if (!dataTable) return;\n",
              "\n",
              "          const docLinkHtml = 'Like what you see? Visit the ' +\n",
              "            '<a target=\"_blank\" href=https://colab.research.google.com/notebooks/data_table.ipynb>data table notebook</a>'\n",
              "            + ' to learn more about interactive tables.';\n",
              "          element.innerHTML = '';\n",
              "          dataTable['output_type'] = 'display_data';\n",
              "          await google.colab.output.renderOutput(dataTable, element);\n",
              "          const docLink = document.createElement('div');\n",
              "          docLink.innerHTML = docLinkHtml;\n",
              "          element.appendChild(docLink);\n",
              "        }\n",
              "      </script>\n",
              "    </div>\n",
              "  </div>\n",
              "  "
            ]
          },
          "metadata": {},
          "execution_count": 73
        }
      ]
    },
    {
      "cell_type": "code",
      "source": [
        "unsee_df_clean.head()"
      ],
      "metadata": {
        "colab": {
          "base_uri": "https://localhost:8080/",
          "height": 206
        },
        "id": "4grrVOEUNPk_",
        "outputId": "1ffd53fd-93b5-4e0b-a049-066eccfec5ca"
      },
      "execution_count": 81,
      "outputs": [
        {
          "output_type": "execute_result",
          "data": {
            "text/plain": [
              "   overall                                         reviewText  \\\n",
              "0        1            Game disc was cracked thats pretty lame   \n",
              "1        5                                         A classic!   \n",
              "2        5               The game is fantastic it works great   \n",
              "3        5                                     very good item   \n",
              "4        5  AWESOME SELLER LOVE THIS GAME ONE OF MY FAVORITES   \n",
              "\n",
              "                   summary  verified  \n",
              "0  Game disc 1 was cracked     1.000  \n",
              "1               Five Stars     1.000  \n",
              "2               Five Stars     1.000  \n",
              "3               Five Stars     1.000  \n",
              "4               Five Stars     1.000  "
            ],
            "text/html": [
              "\n",
              "  <div id=\"df-cb745e74-42db-4265-8dc0-e1ae450aebe7\">\n",
              "    <div class=\"colab-df-container\">\n",
              "      <div>\n",
              "<style scoped>\n",
              "    .dataframe tbody tr th:only-of-type {\n",
              "        vertical-align: middle;\n",
              "    }\n",
              "\n",
              "    .dataframe tbody tr th {\n",
              "        vertical-align: top;\n",
              "    }\n",
              "\n",
              "    .dataframe thead th {\n",
              "        text-align: right;\n",
              "    }\n",
              "</style>\n",
              "<table border=\"1\" class=\"dataframe\">\n",
              "  <thead>\n",
              "    <tr style=\"text-align: right;\">\n",
              "      <th></th>\n",
              "      <th>overall</th>\n",
              "      <th>reviewText</th>\n",
              "      <th>summary</th>\n",
              "      <th>verified</th>\n",
              "    </tr>\n",
              "  </thead>\n",
              "  <tbody>\n",
              "    <tr>\n",
              "      <th>0</th>\n",
              "      <td>1</td>\n",
              "      <td>Game disc was cracked thats pretty lame</td>\n",
              "      <td>Game disc 1 was cracked</td>\n",
              "      <td>1.000</td>\n",
              "    </tr>\n",
              "    <tr>\n",
              "      <th>1</th>\n",
              "      <td>5</td>\n",
              "      <td>A classic!</td>\n",
              "      <td>Five Stars</td>\n",
              "      <td>1.000</td>\n",
              "    </tr>\n",
              "    <tr>\n",
              "      <th>2</th>\n",
              "      <td>5</td>\n",
              "      <td>The game is fantastic it works great</td>\n",
              "      <td>Five Stars</td>\n",
              "      <td>1.000</td>\n",
              "    </tr>\n",
              "    <tr>\n",
              "      <th>3</th>\n",
              "      <td>5</td>\n",
              "      <td>very good item</td>\n",
              "      <td>Five Stars</td>\n",
              "      <td>1.000</td>\n",
              "    </tr>\n",
              "    <tr>\n",
              "      <th>4</th>\n",
              "      <td>5</td>\n",
              "      <td>AWESOME SELLER LOVE THIS GAME ONE OF MY FAVORITES</td>\n",
              "      <td>Five Stars</td>\n",
              "      <td>1.000</td>\n",
              "    </tr>\n",
              "  </tbody>\n",
              "</table>\n",
              "</div>\n",
              "      <button class=\"colab-df-convert\" onclick=\"convertToInteractive('df-cb745e74-42db-4265-8dc0-e1ae450aebe7')\"\n",
              "              title=\"Convert this dataframe to an interactive table.\"\n",
              "              style=\"display:none;\">\n",
              "        \n",
              "  <svg xmlns=\"http://www.w3.org/2000/svg\" height=\"24px\"viewBox=\"0 0 24 24\"\n",
              "       width=\"24px\">\n",
              "    <path d=\"M0 0h24v24H0V0z\" fill=\"none\"/>\n",
              "    <path d=\"M18.56 5.44l.94 2.06.94-2.06 2.06-.94-2.06-.94-.94-2.06-.94 2.06-2.06.94zm-11 1L8.5 8.5l.94-2.06 2.06-.94-2.06-.94L8.5 2.5l-.94 2.06-2.06.94zm10 10l.94 2.06.94-2.06 2.06-.94-2.06-.94-.94-2.06-.94 2.06-2.06.94z\"/><path d=\"M17.41 7.96l-1.37-1.37c-.4-.4-.92-.59-1.43-.59-.52 0-1.04.2-1.43.59L10.3 9.45l-7.72 7.72c-.78.78-.78 2.05 0 2.83L4 21.41c.39.39.9.59 1.41.59.51 0 1.02-.2 1.41-.59l7.78-7.78 2.81-2.81c.8-.78.8-2.07 0-2.86zM5.41 20L4 18.59l7.72-7.72 1.47 1.35L5.41 20z\"/>\n",
              "  </svg>\n",
              "      </button>\n",
              "      \n",
              "  <style>\n",
              "    .colab-df-container {\n",
              "      display:flex;\n",
              "      flex-wrap:wrap;\n",
              "      gap: 12px;\n",
              "    }\n",
              "\n",
              "    .colab-df-convert {\n",
              "      background-color: #E8F0FE;\n",
              "      border: none;\n",
              "      border-radius: 50%;\n",
              "      cursor: pointer;\n",
              "      display: none;\n",
              "      fill: #1967D2;\n",
              "      height: 32px;\n",
              "      padding: 0 0 0 0;\n",
              "      width: 32px;\n",
              "    }\n",
              "\n",
              "    .colab-df-convert:hover {\n",
              "      background-color: #E2EBFA;\n",
              "      box-shadow: 0px 1px 2px rgba(60, 64, 67, 0.3), 0px 1px 3px 1px rgba(60, 64, 67, 0.15);\n",
              "      fill: #174EA6;\n",
              "    }\n",
              "\n",
              "    [theme=dark] .colab-df-convert {\n",
              "      background-color: #3B4455;\n",
              "      fill: #D2E3FC;\n",
              "    }\n",
              "\n",
              "    [theme=dark] .colab-df-convert:hover {\n",
              "      background-color: #434B5C;\n",
              "      box-shadow: 0px 1px 3px 1px rgba(0, 0, 0, 0.15);\n",
              "      filter: drop-shadow(0px 1px 2px rgba(0, 0, 0, 0.3));\n",
              "      fill: #FFFFFF;\n",
              "    }\n",
              "  </style>\n",
              "\n",
              "      <script>\n",
              "        const buttonEl =\n",
              "          document.querySelector('#df-cb745e74-42db-4265-8dc0-e1ae450aebe7 button.colab-df-convert');\n",
              "        buttonEl.style.display =\n",
              "          google.colab.kernel.accessAllowed ? 'block' : 'none';\n",
              "\n",
              "        async function convertToInteractive(key) {\n",
              "          const element = document.querySelector('#df-cb745e74-42db-4265-8dc0-e1ae450aebe7');\n",
              "          const dataTable =\n",
              "            await google.colab.kernel.invokeFunction('convertToInteractive',\n",
              "                                                     [key], {});\n",
              "          if (!dataTable) return;\n",
              "\n",
              "          const docLinkHtml = 'Like what you see? Visit the ' +\n",
              "            '<a target=\"_blank\" href=https://colab.research.google.com/notebooks/data_table.ipynb>data table notebook</a>'\n",
              "            + ' to learn more about interactive tables.';\n",
              "          element.innerHTML = '';\n",
              "          dataTable['output_type'] = 'display_data';\n",
              "          await google.colab.output.renderOutput(dataTable, element);\n",
              "          const docLink = document.createElement('div');\n",
              "          docLink.innerHTML = docLinkHtml;\n",
              "          element.appendChild(docLink);\n",
              "        }\n",
              "      </script>\n",
              "    </div>\n",
              "  </div>\n",
              "  "
            ]
          },
          "metadata": {},
          "execution_count": 81
        }
      ]
    },
    {
      "cell_type": "code",
      "source": [
        "df_recommendation = pd.concat([clean_sample_df, unsee_df_clean])"
      ],
      "metadata": {
        "id": "eHZXNSlfNoEp"
      },
      "execution_count": 82,
      "outputs": []
    },
    {
      "cell_type": "code",
      "source": [
        "df_recommendation.to_csv('recommendation_df.csv', index=False)"
      ],
      "metadata": {
        "id": "K0khWp_AN8Nq"
      },
      "execution_count": 84,
      "outputs": []
    },
    {
      "cell_type": "code",
      "source": [
        "df_recommendation.shape"
      ],
      "metadata": {
        "colab": {
          "base_uri": "https://localhost:8080/"
        },
        "id": "2Z2SAkNvNukL",
        "outputId": "94e510f0-3091-496d-8cab-4418bdf14983"
      },
      "execution_count": 83,
      "outputs": [
        {
          "output_type": "execute_result",
          "data": {
            "text/plain": [
              "(453039, 4)"
            ]
          },
          "metadata": {},
          "execution_count": 83
        }
      ]
    },
    {
      "cell_type": "markdown",
      "source": [
        "# 2° Parte Sistema de Recomendação Content-Based\n",
        "\n",
        "# TODO:\n",
        "- Criar o sistema de recomendação:\n",
        " - Recomendar os 10 itens mais semelhantes.\n",
        " - Buscar o nome dos produtos na lista de produtos\n",
        " - Mostrar o resultado para o usuario"
      ],
      "metadata": {
        "id": "6Zo0iecCJN5M"
      }
    },
    {
      "cell_type": "code",
      "source": [
        "from sklearn.metrics.pairwise import cosine_similarity"
      ],
      "metadata": {
        "id": "JG_CIz0dOKkM"
      },
      "execution_count": 92,
      "outputs": []
    },
    {
      "cell_type": "code",
      "source": [
        "recommendation_path = '/content/recommendation_df.csv'"
      ],
      "metadata": {
        "id": "JCUEK9pRN7RG"
      },
      "execution_count": 91,
      "outputs": []
    },
    {
      "cell_type": "code",
      "source": [
        "df_rec = pd.read_csv(recommendation_path, usecols=['reviewText'])"
      ],
      "metadata": {
        "id": "UNTtmrTAR8jr"
      },
      "execution_count": 93,
      "outputs": []
    },
    {
      "cell_type": "code",
      "source": [
        "df_rec.shape"
      ],
      "metadata": {
        "colab": {
          "base_uri": "https://localhost:8080/"
        },
        "id": "MVNhJrcJTDMA",
        "outputId": "1543ad51-c2d0-49fc-c89d-76b47f123698"
      },
      "execution_count": 94,
      "outputs": [
        {
          "output_type": "execute_result",
          "data": {
            "text/plain": [
              "(453039, 1)"
            ]
          },
          "metadata": {},
          "execution_count": 94
        }
      ]
    },
    {
      "cell_type": "code",
      "source": [
        "class TextEncoderRecommender:\n",
        "\n",
        "  def train(self, data):\n",
        "    data = data.head(10000)\n",
        "    self.vectorizer = TfidfVectorizer(stop_words=\"english\", max_features=20000)\n",
        "    self.X = self.vectorizer.fit_transform(data[\"reviewText\"])\n",
        "    self.sim_matrix = cosine_similarity(self.X)\n",
        "    self.product_ids = data.index.tolist()\n",
        "\n",
        "  def recommend(self, item: int):\n",
        "    product_idx = self.product_ids.index(item)\n",
        "    closest_10 = np.argsort(-self.sim_matrix[product_idx])[1:11]\n",
        "    recommed = [self.product_ids[i] for i in closest_10]\n",
        "    return recommed"
      ],
      "metadata": {
        "id": "h2qzRSXRQcvh"
      },
      "execution_count": 95,
      "outputs": []
    },
    {
      "cell_type": "code",
      "source": [
        "systemRecommender = TextEncoderRecommender()"
      ],
      "metadata": {
        "id": "_OyQuErZTV7-"
      },
      "execution_count": 97,
      "outputs": []
    },
    {
      "cell_type": "code",
      "source": [
        "systemRecommender.train(df_rec)"
      ],
      "metadata": {
        "id": "8xPZfmDlTd_4"
      },
      "execution_count": 98,
      "outputs": []
    },
    {
      "cell_type": "code",
      "source": [
        "idx_rec = systemRecommender.recommend(500)"
      ],
      "metadata": {
        "id": "AtRTOE5OTbBR"
      },
      "execution_count": 105,
      "outputs": []
    },
    {
      "cell_type": "code",
      "source": [
        "df_rec.iloc[idx_rec]"
      ],
      "metadata": {
        "colab": {
          "base_uri": "https://localhost:8080/",
          "height": 363
        },
        "id": "x9Jb3Qw0Tq5H",
        "outputId": "43b5fd24-32f9-4af0-b9da-c71bf51ad513"
      },
      "execution_count": 106,
      "outputs": [
        {
          "output_type": "execute_result",
          "data": {
            "text/plain": [
              "                                             reviewText\n",
              "2796  THE GAME IS NOT EVIL. IT IS WHAT YOU DO WITH T...\n",
              "923   When I bought this game three years ago, I was...\n",
              "480   OK, i know this game is supposedly the best ga...\n",
              "220   Just as my subtitle says,its a great game but ...\n",
              "850   When it all boils down, there are two Final Fa...\n",
              "541   Final Fantasy VII is one of the greatest games...\n",
              "437   ...this is certainly one of the weakest games ...\n",
              "363   Let me preface this by saying I am not a fan o...\n",
              "322   Final Fantasy 6, a.k.a. Final Fantasy 3 on the...\n",
              "359   For me this was my first Final Fantasy experie..."
            ],
            "text/html": [
              "\n",
              "  <div id=\"df-03e006ea-1347-4e78-8a21-0241d0aaaca3\">\n",
              "    <div class=\"colab-df-container\">\n",
              "      <div>\n",
              "<style scoped>\n",
              "    .dataframe tbody tr th:only-of-type {\n",
              "        vertical-align: middle;\n",
              "    }\n",
              "\n",
              "    .dataframe tbody tr th {\n",
              "        vertical-align: top;\n",
              "    }\n",
              "\n",
              "    .dataframe thead th {\n",
              "        text-align: right;\n",
              "    }\n",
              "</style>\n",
              "<table border=\"1\" class=\"dataframe\">\n",
              "  <thead>\n",
              "    <tr style=\"text-align: right;\">\n",
              "      <th></th>\n",
              "      <th>reviewText</th>\n",
              "    </tr>\n",
              "  </thead>\n",
              "  <tbody>\n",
              "    <tr>\n",
              "      <th>2796</th>\n",
              "      <td>THE GAME IS NOT EVIL. IT IS WHAT YOU DO WITH T...</td>\n",
              "    </tr>\n",
              "    <tr>\n",
              "      <th>923</th>\n",
              "      <td>When I bought this game three years ago, I was...</td>\n",
              "    </tr>\n",
              "    <tr>\n",
              "      <th>480</th>\n",
              "      <td>OK, i know this game is supposedly the best ga...</td>\n",
              "    </tr>\n",
              "    <tr>\n",
              "      <th>220</th>\n",
              "      <td>Just as my subtitle says,its a great game but ...</td>\n",
              "    </tr>\n",
              "    <tr>\n",
              "      <th>850</th>\n",
              "      <td>When it all boils down, there are two Final Fa...</td>\n",
              "    </tr>\n",
              "    <tr>\n",
              "      <th>541</th>\n",
              "      <td>Final Fantasy VII is one of the greatest games...</td>\n",
              "    </tr>\n",
              "    <tr>\n",
              "      <th>437</th>\n",
              "      <td>...this is certainly one of the weakest games ...</td>\n",
              "    </tr>\n",
              "    <tr>\n",
              "      <th>363</th>\n",
              "      <td>Let me preface this by saying I am not a fan o...</td>\n",
              "    </tr>\n",
              "    <tr>\n",
              "      <th>322</th>\n",
              "      <td>Final Fantasy 6, a.k.a. Final Fantasy 3 on the...</td>\n",
              "    </tr>\n",
              "    <tr>\n",
              "      <th>359</th>\n",
              "      <td>For me this was my first Final Fantasy experie...</td>\n",
              "    </tr>\n",
              "  </tbody>\n",
              "</table>\n",
              "</div>\n",
              "      <button class=\"colab-df-convert\" onclick=\"convertToInteractive('df-03e006ea-1347-4e78-8a21-0241d0aaaca3')\"\n",
              "              title=\"Convert this dataframe to an interactive table.\"\n",
              "              style=\"display:none;\">\n",
              "        \n",
              "  <svg xmlns=\"http://www.w3.org/2000/svg\" height=\"24px\"viewBox=\"0 0 24 24\"\n",
              "       width=\"24px\">\n",
              "    <path d=\"M0 0h24v24H0V0z\" fill=\"none\"/>\n",
              "    <path d=\"M18.56 5.44l.94 2.06.94-2.06 2.06-.94-2.06-.94-.94-2.06-.94 2.06-2.06.94zm-11 1L8.5 8.5l.94-2.06 2.06-.94-2.06-.94L8.5 2.5l-.94 2.06-2.06.94zm10 10l.94 2.06.94-2.06 2.06-.94-2.06-.94-.94-2.06-.94 2.06-2.06.94z\"/><path d=\"M17.41 7.96l-1.37-1.37c-.4-.4-.92-.59-1.43-.59-.52 0-1.04.2-1.43.59L10.3 9.45l-7.72 7.72c-.78.78-.78 2.05 0 2.83L4 21.41c.39.39.9.59 1.41.59.51 0 1.02-.2 1.41-.59l7.78-7.78 2.81-2.81c.8-.78.8-2.07 0-2.86zM5.41 20L4 18.59l7.72-7.72 1.47 1.35L5.41 20z\"/>\n",
              "  </svg>\n",
              "      </button>\n",
              "      \n",
              "  <style>\n",
              "    .colab-df-container {\n",
              "      display:flex;\n",
              "      flex-wrap:wrap;\n",
              "      gap: 12px;\n",
              "    }\n",
              "\n",
              "    .colab-df-convert {\n",
              "      background-color: #E8F0FE;\n",
              "      border: none;\n",
              "      border-radius: 50%;\n",
              "      cursor: pointer;\n",
              "      display: none;\n",
              "      fill: #1967D2;\n",
              "      height: 32px;\n",
              "      padding: 0 0 0 0;\n",
              "      width: 32px;\n",
              "    }\n",
              "\n",
              "    .colab-df-convert:hover {\n",
              "      background-color: #E2EBFA;\n",
              "      box-shadow: 0px 1px 2px rgba(60, 64, 67, 0.3), 0px 1px 3px 1px rgba(60, 64, 67, 0.15);\n",
              "      fill: #174EA6;\n",
              "    }\n",
              "\n",
              "    [theme=dark] .colab-df-convert {\n",
              "      background-color: #3B4455;\n",
              "      fill: #D2E3FC;\n",
              "    }\n",
              "\n",
              "    [theme=dark] .colab-df-convert:hover {\n",
              "      background-color: #434B5C;\n",
              "      box-shadow: 0px 1px 3px 1px rgba(0, 0, 0, 0.15);\n",
              "      filter: drop-shadow(0px 1px 2px rgba(0, 0, 0, 0.3));\n",
              "      fill: #FFFFFF;\n",
              "    }\n",
              "  </style>\n",
              "\n",
              "      <script>\n",
              "        const buttonEl =\n",
              "          document.querySelector('#df-03e006ea-1347-4e78-8a21-0241d0aaaca3 button.colab-df-convert');\n",
              "        buttonEl.style.display =\n",
              "          google.colab.kernel.accessAllowed ? 'block' : 'none';\n",
              "\n",
              "        async function convertToInteractive(key) {\n",
              "          const element = document.querySelector('#df-03e006ea-1347-4e78-8a21-0241d0aaaca3');\n",
              "          const dataTable =\n",
              "            await google.colab.kernel.invokeFunction('convertToInteractive',\n",
              "                                                     [key], {});\n",
              "          if (!dataTable) return;\n",
              "\n",
              "          const docLinkHtml = 'Like what you see? Visit the ' +\n",
              "            '<a target=\"_blank\" href=https://colab.research.google.com/notebooks/data_table.ipynb>data table notebook</a>'\n",
              "            + ' to learn more about interactive tables.';\n",
              "          element.innerHTML = '';\n",
              "          dataTable['output_type'] = 'display_data';\n",
              "          await google.colab.output.renderOutput(dataTable, element);\n",
              "          const docLink = document.createElement('div');\n",
              "          docLink.innerHTML = docLinkHtml;\n",
              "          element.appendChild(docLink);\n",
              "        }\n",
              "      </script>\n",
              "    </div>\n",
              "  </div>\n",
              "  "
            ]
          },
          "metadata": {},
          "execution_count": 106
        }
      ]
    },
    {
      "cell_type": "markdown",
      "source": [
        "## Erro"
      ],
      "metadata": {
        "id": "KU94HVQfESr2"
      }
    },
    {
      "cell_type": "code",
      "source": [
        "\n",
        "#Vetorizar reviewText e summaray separados, e normalizar o overall\n",
        "\n",
        "numeric_features = ['overall']\n",
        "numeric_transform = Pipeline(\n",
        "    steps=[('Scaler', StandardScaler())]\n",
        ")\n",
        "\n",
        "text_features = ['reviewText', 'summary']\n",
        "text_transformer = Pipeline(\n",
        "    steps=[\n",
        "           ('tfidf', TfidfVectorizer()),\n",
        "           ('svd', TruncatedSVD(algorithm='randomized', n_components=1))\n",
        "    ]\n",
        ")\n",
        "\n",
        "preprocessor = ColumnTransformer(\n",
        "    transformers=[\n",
        "                  ('num', numeric_transform, numeric_features),\n",
        "                  ('text', text_transformer, text_features)\n",
        "    ]\n",
        ")\n",
        "\n"
      ],
      "metadata": {
        "id": "9X36qJwB9p32"
      },
      "execution_count": 62,
      "outputs": []
    },
    {
      "cell_type": "code",
      "source": [
        "from sklearn.linear_model import LogisticRegression\n",
        "\n",
        "pipe = Pipeline([\n",
        "    ('trans', preprocessor),\n",
        "    ('clf', LogisticRegression(max_iter=300, class_weight='balanced'))\n",
        "])"
      ],
      "metadata": {
        "id": "-tpamJoF_VHs"
      },
      "execution_count": 63,
      "outputs": []
    },
    {
      "cell_type": "code",
      "source": [
        "from sklearn import set_config\n",
        "set_config(display='diagram')\n",
        "# with display='diagram', simply use display() to see the diagram\n",
        "display(pipe)\n",
        "# if desired, set display back to the default\n",
        "set_config(display='text')"
      ],
      "metadata": {
        "colab": {
          "base_uri": "https://localhost:8080/",
          "height": 250
        },
        "id": "fivm_WAY_WlT",
        "outputId": "c0dfed89-7cbf-458e-d5f4-fa05224eb1f2"
      },
      "execution_count": 64,
      "outputs": [
        {
          "output_type": "display_data",
          "data": {
            "text/plain": [
              "Pipeline(steps=[('trans',\n",
              "                 ColumnTransformer(transformers=[('num',\n",
              "                                                  Pipeline(steps=[('Scaler',\n",
              "                                                                   StandardScaler())]),\n",
              "                                                  ['overall']),\n",
              "                                                 ('text',\n",
              "                                                  Pipeline(steps=[('tfidf',\n",
              "                                                                   TfidfVectorizer()),\n",
              "                                                                  ('svd',\n",
              "                                                                   TruncatedSVD(n_components=1))]),\n",
              "                                                  ['reviewText', 'summary'])])),\n",
              "                ('clf',\n",
              "                 LogisticRegression(class_weight='balanced', max_iter=300))])"
            ],
            "text/html": [
              "<style>#sk-b6122790-762f-40fc-88eb-1aa4f07ea1e3 {color: black;background-color: white;}#sk-b6122790-762f-40fc-88eb-1aa4f07ea1e3 pre{padding: 0;}#sk-b6122790-762f-40fc-88eb-1aa4f07ea1e3 div.sk-toggleable {background-color: white;}#sk-b6122790-762f-40fc-88eb-1aa4f07ea1e3 label.sk-toggleable__label {cursor: pointer;display: block;width: 100%;margin-bottom: 0;padding: 0.3em;box-sizing: border-box;text-align: center;}#sk-b6122790-762f-40fc-88eb-1aa4f07ea1e3 label.sk-toggleable__label-arrow:before {content: \"▸\";float: left;margin-right: 0.25em;color: #696969;}#sk-b6122790-762f-40fc-88eb-1aa4f07ea1e3 label.sk-toggleable__label-arrow:hover:before {color: black;}#sk-b6122790-762f-40fc-88eb-1aa4f07ea1e3 div.sk-estimator:hover label.sk-toggleable__label-arrow:before {color: black;}#sk-b6122790-762f-40fc-88eb-1aa4f07ea1e3 div.sk-toggleable__content {max-height: 0;max-width: 0;overflow: hidden;text-align: left;background-color: #f0f8ff;}#sk-b6122790-762f-40fc-88eb-1aa4f07ea1e3 div.sk-toggleable__content pre {margin: 0.2em;color: black;border-radius: 0.25em;background-color: #f0f8ff;}#sk-b6122790-762f-40fc-88eb-1aa4f07ea1e3 input.sk-toggleable__control:checked~div.sk-toggleable__content {max-height: 200px;max-width: 100%;overflow: auto;}#sk-b6122790-762f-40fc-88eb-1aa4f07ea1e3 input.sk-toggleable__control:checked~label.sk-toggleable__label-arrow:before {content: \"▾\";}#sk-b6122790-762f-40fc-88eb-1aa4f07ea1e3 div.sk-estimator input.sk-toggleable__control:checked~label.sk-toggleable__label {background-color: #d4ebff;}#sk-b6122790-762f-40fc-88eb-1aa4f07ea1e3 div.sk-label input.sk-toggleable__control:checked~label.sk-toggleable__label {background-color: #d4ebff;}#sk-b6122790-762f-40fc-88eb-1aa4f07ea1e3 input.sk-hidden--visually {border: 0;clip: rect(1px 1px 1px 1px);clip: rect(1px, 1px, 1px, 1px);height: 1px;margin: -1px;overflow: hidden;padding: 0;position: absolute;width: 1px;}#sk-b6122790-762f-40fc-88eb-1aa4f07ea1e3 div.sk-estimator {font-family: monospace;background-color: #f0f8ff;border: 1px dotted black;border-radius: 0.25em;box-sizing: border-box;margin-bottom: 0.5em;}#sk-b6122790-762f-40fc-88eb-1aa4f07ea1e3 div.sk-estimator:hover {background-color: #d4ebff;}#sk-b6122790-762f-40fc-88eb-1aa4f07ea1e3 div.sk-parallel-item::after {content: \"\";width: 100%;border-bottom: 1px solid gray;flex-grow: 1;}#sk-b6122790-762f-40fc-88eb-1aa4f07ea1e3 div.sk-label:hover label.sk-toggleable__label {background-color: #d4ebff;}#sk-b6122790-762f-40fc-88eb-1aa4f07ea1e3 div.sk-serial::before {content: \"\";position: absolute;border-left: 1px solid gray;box-sizing: border-box;top: 2em;bottom: 0;left: 50%;}#sk-b6122790-762f-40fc-88eb-1aa4f07ea1e3 div.sk-serial {display: flex;flex-direction: column;align-items: center;background-color: white;padding-right: 0.2em;padding-left: 0.2em;}#sk-b6122790-762f-40fc-88eb-1aa4f07ea1e3 div.sk-item {z-index: 1;}#sk-b6122790-762f-40fc-88eb-1aa4f07ea1e3 div.sk-parallel {display: flex;align-items: stretch;justify-content: center;background-color: white;}#sk-b6122790-762f-40fc-88eb-1aa4f07ea1e3 div.sk-parallel::before {content: \"\";position: absolute;border-left: 1px solid gray;box-sizing: border-box;top: 2em;bottom: 0;left: 50%;}#sk-b6122790-762f-40fc-88eb-1aa4f07ea1e3 div.sk-parallel-item {display: flex;flex-direction: column;position: relative;background-color: white;}#sk-b6122790-762f-40fc-88eb-1aa4f07ea1e3 div.sk-parallel-item:first-child::after {align-self: flex-end;width: 50%;}#sk-b6122790-762f-40fc-88eb-1aa4f07ea1e3 div.sk-parallel-item:last-child::after {align-self: flex-start;width: 50%;}#sk-b6122790-762f-40fc-88eb-1aa4f07ea1e3 div.sk-parallel-item:only-child::after {width: 0;}#sk-b6122790-762f-40fc-88eb-1aa4f07ea1e3 div.sk-dashed-wrapped {border: 1px dashed gray;margin: 0 0.4em 0.5em 0.4em;box-sizing: border-box;padding-bottom: 0.4em;background-color: white;position: relative;}#sk-b6122790-762f-40fc-88eb-1aa4f07ea1e3 div.sk-label label {font-family: monospace;font-weight: bold;background-color: white;display: inline-block;line-height: 1.2em;}#sk-b6122790-762f-40fc-88eb-1aa4f07ea1e3 div.sk-label-container {position: relative;z-index: 2;text-align: center;}#sk-b6122790-762f-40fc-88eb-1aa4f07ea1e3 div.sk-container {/* jupyter's `normalize.less` sets `[hidden] { display: none; }` but bootstrap.min.css set `[hidden] { display: none !important; }` so we also need the `!important` here to be able to override the default hidden behavior on the sphinx rendered scikit-learn.org. See: https://github.com/scikit-learn/scikit-learn/issues/21755 */display: inline-block !important;position: relative;}#sk-b6122790-762f-40fc-88eb-1aa4f07ea1e3 div.sk-text-repr-fallback {display: none;}</style><div id=\"sk-b6122790-762f-40fc-88eb-1aa4f07ea1e3\" class=\"sk-top-container\"><div class=\"sk-text-repr-fallback\"><pre>Pipeline(steps=[(&#x27;trans&#x27;,\n",
              "                 ColumnTransformer(transformers=[(&#x27;num&#x27;,\n",
              "                                                  Pipeline(steps=[(&#x27;Scaler&#x27;,\n",
              "                                                                   StandardScaler())]),\n",
              "                                                  [&#x27;overall&#x27;]),\n",
              "                                                 (&#x27;text&#x27;,\n",
              "                                                  Pipeline(steps=[(&#x27;tfidf&#x27;,\n",
              "                                                                   TfidfVectorizer()),\n",
              "                                                                  (&#x27;svd&#x27;,\n",
              "                                                                   TruncatedSVD(n_components=1))]),\n",
              "                                                  [&#x27;reviewText&#x27;, &#x27;summary&#x27;])])),\n",
              "                (&#x27;clf&#x27;,\n",
              "                 LogisticRegression(class_weight=&#x27;balanced&#x27;, max_iter=300))])</pre><b>Please rerun this cell to show the HTML repr or trust the notebook.</b></div><div class=\"sk-container\" hidden><div class=\"sk-item sk-dashed-wrapped\"><div class=\"sk-label-container\"><div class=\"sk-label sk-toggleable\"><input class=\"sk-toggleable__control sk-hidden--visually\" id=\"0ffe07f6-c2c5-4737-8677-5ab617797d33\" type=\"checkbox\" ><label for=\"0ffe07f6-c2c5-4737-8677-5ab617797d33\" class=\"sk-toggleable__label sk-toggleable__label-arrow\">Pipeline</label><div class=\"sk-toggleable__content\"><pre>Pipeline(steps=[(&#x27;trans&#x27;,\n",
              "                 ColumnTransformer(transformers=[(&#x27;num&#x27;,\n",
              "                                                  Pipeline(steps=[(&#x27;Scaler&#x27;,\n",
              "                                                                   StandardScaler())]),\n",
              "                                                  [&#x27;overall&#x27;]),\n",
              "                                                 (&#x27;text&#x27;,\n",
              "                                                  Pipeline(steps=[(&#x27;tfidf&#x27;,\n",
              "                                                                   TfidfVectorizer()),\n",
              "                                                                  (&#x27;svd&#x27;,\n",
              "                                                                   TruncatedSVD(n_components=1))]),\n",
              "                                                  [&#x27;reviewText&#x27;, &#x27;summary&#x27;])])),\n",
              "                (&#x27;clf&#x27;,\n",
              "                 LogisticRegression(class_weight=&#x27;balanced&#x27;, max_iter=300))])</pre></div></div></div><div class=\"sk-serial\"><div class=\"sk-item sk-dashed-wrapped\"><div class=\"sk-label-container\"><div class=\"sk-label sk-toggleable\"><input class=\"sk-toggleable__control sk-hidden--visually\" id=\"efdbde50-0341-4bd2-be92-1c78265c4064\" type=\"checkbox\" ><label for=\"efdbde50-0341-4bd2-be92-1c78265c4064\" class=\"sk-toggleable__label sk-toggleable__label-arrow\">trans: ColumnTransformer</label><div class=\"sk-toggleable__content\"><pre>ColumnTransformer(transformers=[(&#x27;num&#x27;,\n",
              "                                 Pipeline(steps=[(&#x27;Scaler&#x27;, StandardScaler())]),\n",
              "                                 [&#x27;overall&#x27;]),\n",
              "                                (&#x27;text&#x27;,\n",
              "                                 Pipeline(steps=[(&#x27;tfidf&#x27;, TfidfVectorizer()),\n",
              "                                                 (&#x27;svd&#x27;,\n",
              "                                                  TruncatedSVD(n_components=1))]),\n",
              "                                 [&#x27;reviewText&#x27;, &#x27;summary&#x27;])])</pre></div></div></div><div class=\"sk-parallel\"><div class=\"sk-parallel-item\"><div class=\"sk-item\"><div class=\"sk-label-container\"><div class=\"sk-label sk-toggleable\"><input class=\"sk-toggleable__control sk-hidden--visually\" id=\"011f05e7-b97f-4893-b71b-d7054349c436\" type=\"checkbox\" ><label for=\"011f05e7-b97f-4893-b71b-d7054349c436\" class=\"sk-toggleable__label sk-toggleable__label-arrow\">num</label><div class=\"sk-toggleable__content\"><pre>[&#x27;overall&#x27;]</pre></div></div></div><div class=\"sk-serial\"><div class=\"sk-item\"><div class=\"sk-serial\"><div class=\"sk-item\"><div class=\"sk-estimator sk-toggleable\"><input class=\"sk-toggleable__control sk-hidden--visually\" id=\"208332ed-fabd-425f-8f93-d90aa0811172\" type=\"checkbox\" ><label for=\"208332ed-fabd-425f-8f93-d90aa0811172\" class=\"sk-toggleable__label sk-toggleable__label-arrow\">StandardScaler</label><div class=\"sk-toggleable__content\"><pre>StandardScaler()</pre></div></div></div></div></div></div></div></div><div class=\"sk-parallel-item\"><div class=\"sk-item\"><div class=\"sk-label-container\"><div class=\"sk-label sk-toggleable\"><input class=\"sk-toggleable__control sk-hidden--visually\" id=\"9f05862c-9967-442e-a073-1f4f0af84ff7\" type=\"checkbox\" ><label for=\"9f05862c-9967-442e-a073-1f4f0af84ff7\" class=\"sk-toggleable__label sk-toggleable__label-arrow\">text</label><div class=\"sk-toggleable__content\"><pre>[&#x27;reviewText&#x27;, &#x27;summary&#x27;]</pre></div></div></div><div class=\"sk-serial\"><div class=\"sk-item\"><div class=\"sk-serial\"><div class=\"sk-item\"><div class=\"sk-estimator sk-toggleable\"><input class=\"sk-toggleable__control sk-hidden--visually\" id=\"435a5ea7-03c0-42ed-bad5-0d5ab0bd1950\" type=\"checkbox\" ><label for=\"435a5ea7-03c0-42ed-bad5-0d5ab0bd1950\" class=\"sk-toggleable__label sk-toggleable__label-arrow\">TfidfVectorizer</label><div class=\"sk-toggleable__content\"><pre>TfidfVectorizer()</pre></div></div></div><div class=\"sk-item\"><div class=\"sk-estimator sk-toggleable\"><input class=\"sk-toggleable__control sk-hidden--visually\" id=\"b5a913ee-b4d0-43aa-8f4f-b20dff31c09d\" type=\"checkbox\" ><label for=\"b5a913ee-b4d0-43aa-8f4f-b20dff31c09d\" class=\"sk-toggleable__label sk-toggleable__label-arrow\">TruncatedSVD</label><div class=\"sk-toggleable__content\"><pre>TruncatedSVD(n_components=1)</pre></div></div></div></div></div></div></div></div></div></div><div class=\"sk-item\"><div class=\"sk-estimator sk-toggleable\"><input class=\"sk-toggleable__control sk-hidden--visually\" id=\"072b864d-ad87-48c2-b129-ef5535785cd0\" type=\"checkbox\" ><label for=\"072b864d-ad87-48c2-b129-ef5535785cd0\" class=\"sk-toggleable__label sk-toggleable__label-arrow\">LogisticRegression</label><div class=\"sk-toggleable__content\"><pre>LogisticRegression(class_weight=&#x27;balanced&#x27;, max_iter=300)</pre></div></div></div></div></div></div></div>"
            ]
          },
          "metadata": {}
        }
      ]
    },
    {
      "cell_type": "code",
      "source": [
        "pipe.fit(X_train, y_train)"
      ],
      "metadata": {
        "colab": {
          "base_uri": "https://localhost:8080/",
          "height": 396
        },
        "id": "KSDQwHC3_t4k",
        "outputId": "99f553ac-b297-4878-e5e1-2f9dd5d54d61"
      },
      "execution_count": 68,
      "outputs": [
        {
          "output_type": "error",
          "ename": "ValueError",
          "evalue": "ignored",
          "traceback": [
            "\u001b[0;31m---------------------------------------------------------------------------\u001b[0m",
            "\u001b[0;31mValueError\u001b[0m                                Traceback (most recent call last)",
            "\u001b[0;32m<ipython-input-68-62f05099a2d9>\u001b[0m in \u001b[0;36m<module>\u001b[0;34m()\u001b[0m\n\u001b[0;32m----> 1\u001b[0;31m \u001b[0mpipe\u001b[0m\u001b[0;34m.\u001b[0m\u001b[0mfit\u001b[0m\u001b[0;34m(\u001b[0m\u001b[0mX_train\u001b[0m\u001b[0;34m,\u001b[0m \u001b[0my_train\u001b[0m\u001b[0;34m)\u001b[0m\u001b[0;34m\u001b[0m\u001b[0;34m\u001b[0m\u001b[0m\n\u001b[0m",
            "\u001b[0;32m/usr/local/lib/python3.7/dist-packages/sklearn/pipeline.py\u001b[0m in \u001b[0;36mfit\u001b[0;34m(self, X, y, **fit_params)\u001b[0m\n\u001b[1;32m    388\u001b[0m         \"\"\"\n\u001b[1;32m    389\u001b[0m         \u001b[0mfit_params_steps\u001b[0m \u001b[0;34m=\u001b[0m \u001b[0mself\u001b[0m\u001b[0;34m.\u001b[0m\u001b[0m_check_fit_params\u001b[0m\u001b[0;34m(\u001b[0m\u001b[0;34m**\u001b[0m\u001b[0mfit_params\u001b[0m\u001b[0;34m)\u001b[0m\u001b[0;34m\u001b[0m\u001b[0;34m\u001b[0m\u001b[0m\n\u001b[0;32m--> 390\u001b[0;31m         \u001b[0mXt\u001b[0m \u001b[0;34m=\u001b[0m \u001b[0mself\u001b[0m\u001b[0;34m.\u001b[0m\u001b[0m_fit\u001b[0m\u001b[0;34m(\u001b[0m\u001b[0mX\u001b[0m\u001b[0;34m,\u001b[0m \u001b[0my\u001b[0m\u001b[0;34m,\u001b[0m \u001b[0;34m**\u001b[0m\u001b[0mfit_params_steps\u001b[0m\u001b[0;34m)\u001b[0m\u001b[0;34m\u001b[0m\u001b[0;34m\u001b[0m\u001b[0m\n\u001b[0m\u001b[1;32m    391\u001b[0m         \u001b[0;32mwith\u001b[0m \u001b[0m_print_elapsed_time\u001b[0m\u001b[0;34m(\u001b[0m\u001b[0;34m\"Pipeline\"\u001b[0m\u001b[0;34m,\u001b[0m \u001b[0mself\u001b[0m\u001b[0;34m.\u001b[0m\u001b[0m_log_message\u001b[0m\u001b[0;34m(\u001b[0m\u001b[0mlen\u001b[0m\u001b[0;34m(\u001b[0m\u001b[0mself\u001b[0m\u001b[0;34m.\u001b[0m\u001b[0msteps\u001b[0m\u001b[0;34m)\u001b[0m \u001b[0;34m-\u001b[0m \u001b[0;36m1\u001b[0m\u001b[0;34m)\u001b[0m\u001b[0;34m)\u001b[0m\u001b[0;34m:\u001b[0m\u001b[0;34m\u001b[0m\u001b[0;34m\u001b[0m\u001b[0m\n\u001b[1;32m    392\u001b[0m             \u001b[0;32mif\u001b[0m \u001b[0mself\u001b[0m\u001b[0;34m.\u001b[0m\u001b[0m_final_estimator\u001b[0m \u001b[0;34m!=\u001b[0m \u001b[0;34m\"passthrough\"\u001b[0m\u001b[0;34m:\u001b[0m\u001b[0;34m\u001b[0m\u001b[0;34m\u001b[0m\u001b[0m\n",
            "\u001b[0;32m/usr/local/lib/python3.7/dist-packages/sklearn/pipeline.py\u001b[0m in \u001b[0;36m_fit\u001b[0;34m(self, X, y, **fit_params_steps)\u001b[0m\n\u001b[1;32m    353\u001b[0m                 \u001b[0mmessage_clsname\u001b[0m\u001b[0;34m=\u001b[0m\u001b[0;34m\"Pipeline\"\u001b[0m\u001b[0;34m,\u001b[0m\u001b[0;34m\u001b[0m\u001b[0;34m\u001b[0m\u001b[0m\n\u001b[1;32m    354\u001b[0m                 \u001b[0mmessage\u001b[0m\u001b[0;34m=\u001b[0m\u001b[0mself\u001b[0m\u001b[0;34m.\u001b[0m\u001b[0m_log_message\u001b[0m\u001b[0;34m(\u001b[0m\u001b[0mstep_idx\u001b[0m\u001b[0;34m)\u001b[0m\u001b[0;34m,\u001b[0m\u001b[0;34m\u001b[0m\u001b[0;34m\u001b[0m\u001b[0m\n\u001b[0;32m--> 355\u001b[0;31m                 \u001b[0;34m**\u001b[0m\u001b[0mfit_params_steps\u001b[0m\u001b[0;34m[\u001b[0m\u001b[0mname\u001b[0m\u001b[0;34m]\u001b[0m\u001b[0;34m,\u001b[0m\u001b[0;34m\u001b[0m\u001b[0;34m\u001b[0m\u001b[0m\n\u001b[0m\u001b[1;32m    356\u001b[0m             )\n\u001b[1;32m    357\u001b[0m             \u001b[0;31m# Replace the transformer of the step with the fitted\u001b[0m\u001b[0;34m\u001b[0m\u001b[0;34m\u001b[0m\u001b[0;34m\u001b[0m\u001b[0m\n",
            "\u001b[0;32m/usr/local/lib/python3.7/dist-packages/joblib/memory.py\u001b[0m in \u001b[0;36m__call__\u001b[0;34m(self, *args, **kwargs)\u001b[0m\n\u001b[1;32m    347\u001b[0m \u001b[0;34m\u001b[0m\u001b[0m\n\u001b[1;32m    348\u001b[0m     \u001b[0;32mdef\u001b[0m \u001b[0m__call__\u001b[0m\u001b[0;34m(\u001b[0m\u001b[0mself\u001b[0m\u001b[0;34m,\u001b[0m \u001b[0;34m*\u001b[0m\u001b[0margs\u001b[0m\u001b[0;34m,\u001b[0m \u001b[0;34m**\u001b[0m\u001b[0mkwargs\u001b[0m\u001b[0;34m)\u001b[0m\u001b[0;34m:\u001b[0m\u001b[0;34m\u001b[0m\u001b[0;34m\u001b[0m\u001b[0m\n\u001b[0;32m--> 349\u001b[0;31m         \u001b[0;32mreturn\u001b[0m \u001b[0mself\u001b[0m\u001b[0;34m.\u001b[0m\u001b[0mfunc\u001b[0m\u001b[0;34m(\u001b[0m\u001b[0;34m*\u001b[0m\u001b[0margs\u001b[0m\u001b[0;34m,\u001b[0m \u001b[0;34m**\u001b[0m\u001b[0mkwargs\u001b[0m\u001b[0;34m)\u001b[0m\u001b[0;34m\u001b[0m\u001b[0;34m\u001b[0m\u001b[0m\n\u001b[0m\u001b[1;32m    350\u001b[0m \u001b[0;34m\u001b[0m\u001b[0m\n\u001b[1;32m    351\u001b[0m     \u001b[0;32mdef\u001b[0m \u001b[0mcall_and_shelve\u001b[0m\u001b[0;34m(\u001b[0m\u001b[0mself\u001b[0m\u001b[0;34m,\u001b[0m \u001b[0;34m*\u001b[0m\u001b[0margs\u001b[0m\u001b[0;34m,\u001b[0m \u001b[0;34m**\u001b[0m\u001b[0mkwargs\u001b[0m\u001b[0;34m)\u001b[0m\u001b[0;34m:\u001b[0m\u001b[0;34m\u001b[0m\u001b[0;34m\u001b[0m\u001b[0m\n",
            "\u001b[0;32m/usr/local/lib/python3.7/dist-packages/sklearn/pipeline.py\u001b[0m in \u001b[0;36m_fit_transform_one\u001b[0;34m(transformer, X, y, weight, message_clsname, message, **fit_params)\u001b[0m\n\u001b[1;32m    891\u001b[0m     \u001b[0;32mwith\u001b[0m \u001b[0m_print_elapsed_time\u001b[0m\u001b[0;34m(\u001b[0m\u001b[0mmessage_clsname\u001b[0m\u001b[0;34m,\u001b[0m \u001b[0mmessage\u001b[0m\u001b[0;34m)\u001b[0m\u001b[0;34m:\u001b[0m\u001b[0;34m\u001b[0m\u001b[0;34m\u001b[0m\u001b[0m\n\u001b[1;32m    892\u001b[0m         \u001b[0;32mif\u001b[0m \u001b[0mhasattr\u001b[0m\u001b[0;34m(\u001b[0m\u001b[0mtransformer\u001b[0m\u001b[0;34m,\u001b[0m \u001b[0;34m\"fit_transform\"\u001b[0m\u001b[0;34m)\u001b[0m\u001b[0;34m:\u001b[0m\u001b[0;34m\u001b[0m\u001b[0;34m\u001b[0m\u001b[0m\n\u001b[0;32m--> 893\u001b[0;31m             \u001b[0mres\u001b[0m \u001b[0;34m=\u001b[0m \u001b[0mtransformer\u001b[0m\u001b[0;34m.\u001b[0m\u001b[0mfit_transform\u001b[0m\u001b[0;34m(\u001b[0m\u001b[0mX\u001b[0m\u001b[0;34m,\u001b[0m \u001b[0my\u001b[0m\u001b[0;34m,\u001b[0m \u001b[0;34m**\u001b[0m\u001b[0mfit_params\u001b[0m\u001b[0;34m)\u001b[0m\u001b[0;34m\u001b[0m\u001b[0;34m\u001b[0m\u001b[0m\n\u001b[0m\u001b[1;32m    894\u001b[0m         \u001b[0;32melse\u001b[0m\u001b[0;34m:\u001b[0m\u001b[0;34m\u001b[0m\u001b[0;34m\u001b[0m\u001b[0m\n\u001b[1;32m    895\u001b[0m             \u001b[0mres\u001b[0m \u001b[0;34m=\u001b[0m \u001b[0mtransformer\u001b[0m\u001b[0;34m.\u001b[0m\u001b[0mfit\u001b[0m\u001b[0;34m(\u001b[0m\u001b[0mX\u001b[0m\u001b[0;34m,\u001b[0m \u001b[0my\u001b[0m\u001b[0;34m,\u001b[0m \u001b[0;34m**\u001b[0m\u001b[0mfit_params\u001b[0m\u001b[0;34m)\u001b[0m\u001b[0;34m.\u001b[0m\u001b[0mtransform\u001b[0m\u001b[0;34m(\u001b[0m\u001b[0mX\u001b[0m\u001b[0;34m)\u001b[0m\u001b[0;34m\u001b[0m\u001b[0;34m\u001b[0m\u001b[0m\n",
            "\u001b[0;32m/usr/local/lib/python3.7/dist-packages/sklearn/compose/_column_transformer.py\u001b[0m in \u001b[0;36mfit_transform\u001b[0;34m(self, X, y)\u001b[0m\n\u001b[1;32m    697\u001b[0m         \u001b[0mself\u001b[0m\u001b[0;34m.\u001b[0m\u001b[0m_record_output_indices\u001b[0m\u001b[0;34m(\u001b[0m\u001b[0mXs\u001b[0m\u001b[0;34m)\u001b[0m\u001b[0;34m\u001b[0m\u001b[0;34m\u001b[0m\u001b[0m\n\u001b[1;32m    698\u001b[0m \u001b[0;34m\u001b[0m\u001b[0m\n\u001b[0;32m--> 699\u001b[0;31m         \u001b[0;32mreturn\u001b[0m \u001b[0mself\u001b[0m\u001b[0;34m.\u001b[0m\u001b[0m_hstack\u001b[0m\u001b[0;34m(\u001b[0m\u001b[0mlist\u001b[0m\u001b[0;34m(\u001b[0m\u001b[0mXs\u001b[0m\u001b[0;34m)\u001b[0m\u001b[0;34m)\u001b[0m\u001b[0;34m\u001b[0m\u001b[0;34m\u001b[0m\u001b[0m\n\u001b[0m\u001b[1;32m    700\u001b[0m \u001b[0;34m\u001b[0m\u001b[0m\n\u001b[1;32m    701\u001b[0m     \u001b[0;32mdef\u001b[0m \u001b[0mtransform\u001b[0m\u001b[0;34m(\u001b[0m\u001b[0mself\u001b[0m\u001b[0;34m,\u001b[0m \u001b[0mX\u001b[0m\u001b[0;34m)\u001b[0m\u001b[0;34m:\u001b[0m\u001b[0;34m\u001b[0m\u001b[0;34m\u001b[0m\u001b[0m\n",
            "\u001b[0;32m/usr/local/lib/python3.7/dist-packages/sklearn/compose/_column_transformer.py\u001b[0m in \u001b[0;36m_hstack\u001b[0;34m(self, Xs)\u001b[0m\n\u001b[1;32m    789\u001b[0m         \u001b[0;32melse\u001b[0m\u001b[0;34m:\u001b[0m\u001b[0;34m\u001b[0m\u001b[0;34m\u001b[0m\u001b[0m\n\u001b[1;32m    790\u001b[0m             \u001b[0mXs\u001b[0m \u001b[0;34m=\u001b[0m \u001b[0;34m[\u001b[0m\u001b[0mf\u001b[0m\u001b[0;34m.\u001b[0m\u001b[0mtoarray\u001b[0m\u001b[0;34m(\u001b[0m\u001b[0;34m)\u001b[0m \u001b[0;32mif\u001b[0m \u001b[0msparse\u001b[0m\u001b[0;34m.\u001b[0m\u001b[0missparse\u001b[0m\u001b[0;34m(\u001b[0m\u001b[0mf\u001b[0m\u001b[0;34m)\u001b[0m \u001b[0;32melse\u001b[0m \u001b[0mf\u001b[0m \u001b[0;32mfor\u001b[0m \u001b[0mf\u001b[0m \u001b[0;32min\u001b[0m \u001b[0mXs\u001b[0m\u001b[0;34m]\u001b[0m\u001b[0;34m\u001b[0m\u001b[0;34m\u001b[0m\u001b[0m\n\u001b[0;32m--> 791\u001b[0;31m             \u001b[0;32mreturn\u001b[0m \u001b[0mnp\u001b[0m\u001b[0;34m.\u001b[0m\u001b[0mhstack\u001b[0m\u001b[0;34m(\u001b[0m\u001b[0mXs\u001b[0m\u001b[0;34m)\u001b[0m\u001b[0;34m\u001b[0m\u001b[0;34m\u001b[0m\u001b[0m\n\u001b[0m\u001b[1;32m    792\u001b[0m \u001b[0;34m\u001b[0m\u001b[0m\n\u001b[1;32m    793\u001b[0m     \u001b[0;32mdef\u001b[0m \u001b[0m_sk_visual_block_\u001b[0m\u001b[0;34m(\u001b[0m\u001b[0mself\u001b[0m\u001b[0;34m)\u001b[0m\u001b[0;34m:\u001b[0m\u001b[0;34m\u001b[0m\u001b[0;34m\u001b[0m\u001b[0m\n",
            "\u001b[0;32m<__array_function__ internals>\u001b[0m in \u001b[0;36mhstack\u001b[0;34m(*args, **kwargs)\u001b[0m\n",
            "\u001b[0;32m/usr/local/lib/python3.7/dist-packages/numpy/core/shape_base.py\u001b[0m in \u001b[0;36mhstack\u001b[0;34m(tup)\u001b[0m\n\u001b[1;32m    343\u001b[0m         \u001b[0;32mreturn\u001b[0m \u001b[0m_nx\u001b[0m\u001b[0;34m.\u001b[0m\u001b[0mconcatenate\u001b[0m\u001b[0;34m(\u001b[0m\u001b[0marrs\u001b[0m\u001b[0;34m,\u001b[0m \u001b[0;36m0\u001b[0m\u001b[0;34m)\u001b[0m\u001b[0;34m\u001b[0m\u001b[0;34m\u001b[0m\u001b[0m\n\u001b[1;32m    344\u001b[0m     \u001b[0;32melse\u001b[0m\u001b[0;34m:\u001b[0m\u001b[0;34m\u001b[0m\u001b[0;34m\u001b[0m\u001b[0m\n\u001b[0;32m--> 345\u001b[0;31m         \u001b[0;32mreturn\u001b[0m \u001b[0m_nx\u001b[0m\u001b[0;34m.\u001b[0m\u001b[0mconcatenate\u001b[0m\u001b[0;34m(\u001b[0m\u001b[0marrs\u001b[0m\u001b[0;34m,\u001b[0m \u001b[0;36m1\u001b[0m\u001b[0;34m)\u001b[0m\u001b[0;34m\u001b[0m\u001b[0;34m\u001b[0m\u001b[0m\n\u001b[0m\u001b[1;32m    346\u001b[0m \u001b[0;34m\u001b[0m\u001b[0m\n\u001b[1;32m    347\u001b[0m \u001b[0;34m\u001b[0m\u001b[0m\n",
            "\u001b[0;32m<__array_function__ internals>\u001b[0m in \u001b[0;36mconcatenate\u001b[0;34m(*args, **kwargs)\u001b[0m\n",
            "\u001b[0;31mValueError\u001b[0m: all the input array dimensions for the concatenation axis must match exactly, but along dimension 0, the array at index 0 has size 307280 and the array at index 1 has size 2"
          ]
        }
      ]
    },
    {
      "cell_type": "code",
      "source": [
        ""
      ],
      "metadata": {
        "id": "jBoputQv_0uz"
      },
      "execution_count": null,
      "outputs": []
    }
  ]
}